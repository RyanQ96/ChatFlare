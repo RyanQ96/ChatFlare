{
 "cells": [
  {
   "cell_type": "code",
   "execution_count": 1,
   "id": "db89c439-63d7-4823-9df4-3ab86872bbf3",
   "metadata": {},
   "outputs": [],
   "source": [
    "%run setup.py"
   ]
  },
  {
   "cell_type": "code",
   "execution_count": 2,
   "id": "e66c798e-e2cb-41a8-84f3-9de34289acf2",
   "metadata": {},
   "outputs": [
    {
     "ename": "ModuleNotFoundError",
     "evalue": "No module named 'agent_card_server'",
     "output_type": "error",
     "traceback": [
      "\u001b[0;31m---------------------------------------------------------------------------\u001b[0m",
      "\u001b[0;31mModuleNotFoundError\u001b[0m                       Traceback (most recent call last)",
      "Cell \u001b[0;32mIn[2], line 1\u001b[0m\n\u001b[0;32m----> 1\u001b[0m \u001b[38;5;28;01mfrom\u001b[39;00m \u001b[38;5;21;01magent_card_server\u001b[39;00m\u001b[38;5;21;01m.\u001b[39;00m\u001b[38;5;21;01mconnection\u001b[39;00m\u001b[38;5;21;01m.\u001b[39;00m\u001b[38;5;21;01mfirebase_handler\u001b[39;00m \u001b[38;5;28;01mimport\u001b[39;00m list_all_projects\n",
      "\u001b[0;31mModuleNotFoundError\u001b[0m: No module named 'agent_card_server'"
     ]
    }
   ],
   "source": [
    "from agent_card_server.connection.firebase_handler import list_all_projects"
   ]
  },
  {
   "cell_type": "code",
   "execution_count": 5,
   "id": "fbb3c9e4-903b-4d25-a286-ba0d402e5783",
   "metadata": {},
   "outputs": [
    {
     "ename": "ModuleNotFoundError",
     "evalue": "No module named 'chatflare'",
     "output_type": "error",
     "traceback": [
      "\u001b[0;31m---------------------------------------------------------------------------\u001b[0m",
      "\u001b[0;31mModuleNotFoundError\u001b[0m                       Traceback (most recent call last)",
      "Cell \u001b[0;32mIn[5], line 1\u001b[0m\n\u001b[0;32m----> 1\u001b[0m \u001b[38;5;28;01mfrom\u001b[39;00m \u001b[38;5;21;01mChatFlare\u001b[39;00m\u001b[38;5;21;01m.\u001b[39;00m\u001b[38;5;21;01mchatflare\u001b[39;00m\u001b[38;5;21;01m.\u001b[39;00m\u001b[38;5;21;01mgraph\u001b[39;00m\u001b[38;5;21;01m.\u001b[39;00m\u001b[38;5;21;01mnodes\u001b[39;00m \u001b[38;5;28;01mimport\u001b[39;00m TaskNode, LLMTaskNode, RouteNode\n",
      "File \u001b[0;32m~/Desktop/research/2023 further/perspecto-cards/server/ChatFlare/chatflare/graph/nodes.py:2\u001b[0m\n\u001b[1;32m      1\u001b[0m \u001b[38;5;28;01mfrom\u001b[39;00m \u001b[38;5;21;01mtyping\u001b[39;00m \u001b[38;5;28;01mimport\u001b[39;00m Callable, Union\n\u001b[0;32m----> 2\u001b[0m \u001b[38;5;28;01mfrom\u001b[39;00m \u001b[38;5;21;01mchatflare\u001b[39;00m\u001b[38;5;21;01m.\u001b[39;00m\u001b[38;5;21;01mcore\u001b[39;00m\u001b[38;5;21;01m.\u001b[39;00m\u001b[38;5;21;01mllm_wrapper\u001b[39;00m \u001b[38;5;28;01mimport\u001b[39;00m BaseChain\n\u001b[1;32m      3\u001b[0m \u001b[38;5;28;01mimport\u001b[39;00m \u001b[38;5;21;01muuid\u001b[39;00m \n\u001b[1;32m      6\u001b[0m ChainOrFunction \u001b[38;5;241m=\u001b[39m Union[Callable, BaseChain] \n",
      "\u001b[0;31mModuleNotFoundError\u001b[0m: No module named 'chatflare'"
     ]
    }
   ],
   "source": [
    "from ChatFlare.chatflare.graph.nodes import TaskNode, LLMTaskNode, RouteNode"
   ]
  }
 ],
 "metadata": {
  "kernelspec": {
   "display_name": "chatflare",
   "language": "python",
   "name": "chatflare-venv"
  },
  "language_info": {
   "codemirror_mode": {
    "name": "ipython",
    "version": 3
   },
   "file_extension": ".py",
   "mimetype": "text/x-python",
   "name": "python",
   "nbconvert_exporter": "python",
   "pygments_lexer": "ipython3",
   "version": "3.10.10"
  }
 },
 "nbformat": 4,
 "nbformat_minor": 5
}
