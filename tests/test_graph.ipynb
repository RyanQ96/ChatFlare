{
 "cells": [
  {
   "cell_type": "code",
   "execution_count": 1,
   "id": "c5ae31a4-ddfb-4b41-9688-979ed2250714",
   "metadata": {},
   "outputs": [],
   "source": [
    "%run setup.py"
   ]
  },
  {
   "cell_type": "code",
   "execution_count": 2,
   "id": "30e750e8-15f8-403b-a5dc-7dfae138ce48",
   "metadata": {},
   "outputs": [],
   "source": [
    "from chatflare.graph.base import * "
   ]
  },
  {
   "cell_type": "code",
   "execution_count": 3,
   "id": "2986a6a2-63d4-47c2-9b2f-b7a7d343623d",
   "metadata": {},
   "outputs": [],
   "source": [
    "G = BaseGraph()"
   ]
  },
  {
   "cell_type": "code",
   "execution_count": null,
   "id": "5a6f3974-810d-4122-9bf5-7b54ea524f45",
   "metadata": {},
   "outputs": [],
   "source": [
    "class Node:\n",
    "    def __init__(self, node_name):\n",
    "        sef."
   ]
  }
 ],
 "metadata": {
  "kernelspec": {
   "display_name": "chatflare",
   "language": "python",
   "name": "chatflare-venv"
  },
  "language_info": {
   "codemirror_mode": {
    "name": "ipython",
    "version": 3
   },
   "file_extension": ".py",
   "mimetype": "text/x-python",
   "name": "python",
   "nbconvert_exporter": "python",
   "pygments_lexer": "ipython3",
   "version": "3.10.10"
  }
 },
 "nbformat": 4,
 "nbformat_minor": 5
}
