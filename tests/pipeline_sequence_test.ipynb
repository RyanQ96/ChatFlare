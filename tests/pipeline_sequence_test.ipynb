{
 "cells": [
  {
   "cell_type": "code",
   "execution_count": 98,
   "id": "c0868093-a90f-46bd-afe9-61d4fd5df3ca",
   "metadata": {},
   "outputs": [],
   "source": [
    "from typing import Union, TypeVar, Generic, Callable\n",
    "\n",
    "T = TypeVar(\"T\")\n",
    "\n",
    "class ModuleSequence(Generic[T]):\n",
    "    def __init__(self, modules):\n",
    "        self.modules = modules \n",
    "        self._output = None \n",
    "    \n",
    "    def __call__(self, val: T):\n",
    "        return self._evaluate(val)\n",
    "\n",
    "    def _evaluate(self, val: T):\n",
    "        if self.modules and len(self.modules) > 0: \n",
    "            intermediate_res = None \n",
    "            for module in self.modules:\n",
    "                if intermediate_res is None:\n",
    "                    intermediate_res = module(val)\n",
    "                else:\n",
    "                    intermediate_res = module(intermediate_res)\n",
    "            self._output = intermediate_res \n",
    "        else:\n",
    "            raise ValueError(\"No modules to evaluate\")\n",
    "        return self._output\n",
    "    \n",
    "    def __or__(self, other: Union['Module', 'ModuleSequence']):\n",
    "        if isinstance(other, Module):\n",
    "            return ModuleSequence(self.modules + [other])\n",
    "        elif isinstance(other, ModuleSequence):\n",
    "            return ModuleSequence(self.modules + other.modules)\n",
    "        else:\n",
    "            raise ValueError(\"Invalid type {} for pipe operator\".format(type(other)))"
   ]
  },
  {
   "cell_type": "code",
   "execution_count": null,
   "id": "fc284962-f0d9-4f45-b66c-036853201091",
   "metadata": {},
   "outputs": [],
   "source": [
    "from typing import Union, Any\n",
    "\n",
    "class Module(Generic[T]): \n",
    "    def __init__(self, func): \n",
    "        self.func = func \n",
    "        \n",
    "    def _execute(self, val: T): \n",
    "        return self.func(val)\n",
    "\n",
    "    def __call__(self, val: T):  \n",
    "        return self._execute(val) \n",
    "    \n",
    "    def __or__(self, other: Union['Module', 'ModuleSequence']): \n",
    "        if isinstance(other, Module): \n",
    "            return ModuleSequence([self, other])\n",
    "        elif isinstance(other, ModuleSequence): \n",
    "            return ModuleSequence([self, *other.modules])\n",
    "        else:\n",
    "            raise ValueError(\"Invalid type {} for pipe operator\".format(type(other)))"
   ]
  },
  {
   "cell_type": "code",
   "execution_count": 100,
   "id": "1755efee",
   "metadata": {},
   "outputs": [],
   "source": [
    "module1 = Module(lambda x: x + 1)\n",
    "module2 = Module(lambda x: x ** 2)"
   ]
  },
  {
   "cell_type": "code",
   "execution_count": 101,
   "id": "f2c1d1ec",
   "metadata": {},
   "outputs": [],
   "source": [
    "pipeline1 = module1 | module2 "
   ]
  },
  {
   "cell_type": "code",
   "execution_count": 102,
   "id": "c014bbb8",
   "metadata": {},
   "outputs": [],
   "source": [
    "module3 = Module(lambda x: x * 2)\n",
    "module4 = Module(lambda x: x - 1)"
   ]
  },
  {
   "cell_type": "code",
   "execution_count": 103,
   "id": "a9c1d2f2",
   "metadata": {},
   "outputs": [],
   "source": [
    "pipeline2 = module3 | module4"
   ]
  },
  {
   "cell_type": "code",
   "execution_count": 104,
   "id": "cd0ff40b",
   "metadata": {},
   "outputs": [],
   "source": [
    "unified_pipeline = pipeline1 | pipeline2 | Module(lambda x: x / 2)"
   ]
  },
  {
   "cell_type": "code",
   "execution_count": 105,
   "id": "e1ac2d78",
   "metadata": {},
   "outputs": [
    {
     "data": {
      "text/plain": [
       "17"
      ]
     },
     "execution_count": 105,
     "metadata": {},
     "output_type": "execute_result"
    }
   ],
   "source": [
    "(pipeline1 | pipeline2)(2)"
   ]
  }
 ],
 "metadata": {
  "kernelspec": {
   "display_name": "Python (myenv)",
   "language": "python",
   "name": "myenv"
  },
  "language_info": {
   "codemirror_mode": {
    "name": "ipython",
    "version": 3
   },
   "file_extension": ".py",
   "mimetype": "text/x-python",
   "name": "python",
   "nbconvert_exporter": "python",
   "pygments_lexer": "ipython3",
   "version": "3.11.4"
  }
 },
 "nbformat": 4,
 "nbformat_minor": 5
}
