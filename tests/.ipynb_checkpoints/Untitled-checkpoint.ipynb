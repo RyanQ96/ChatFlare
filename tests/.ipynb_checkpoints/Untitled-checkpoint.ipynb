{
 "cells": [
  {
   "cell_type": "code",
   "execution_count": 1,
   "id": "8a10bf2d-8149-4486-a631-59d8f8dbd110",
   "metadata": {},
   "outputs": [],
   "source": [
    "%run setup.py"
   ]
  },
  {
   "cell_type": "code",
   "execution_count": 2,
   "id": "bc69accc-e5a4-43b6-8939-08231bd088f7",
   "metadata": {},
   "outputs": [],
   "source": [
    "from chatflare.graph.base import * "
   ]
  },
  {
   "cell_type": "code",
   "execution_count": 3,
   "id": "170d9cc8-8cf1-41f3-bdf2-49488f94ea8d",
   "metadata": {},
   "outputs": [],
   "source": [
    "## create a BaseGraph Obj and initialize a thread\n",
    "agent_graph = BaseGraph()\n",
    "agent_graph.initialize_thread()"
   ]
  },
  {
   "cell_type": "code",
   "execution_count": 4,
   "id": "640870f1-e147-4ec0-89a6-33323e6b9b34",
   "metadata": {},
   "outputs": [],
   "source": [
    "thread_id = list(agent_graph.traverse_thread.keys())[0]"
   ]
  },
  {
   "cell_type": "code",
   "execution_count": 5,
   "id": "190051bc-9f46-43b1-ac25-328c0ce5d419",
   "metadata": {},
   "outputs": [],
   "source": [
    "thread = agent_graph.traverse_thread[thread_id]"
   ]
  },
  {
   "cell_type": "code",
   "execution_count": 6,
   "id": "55432b37-ffc6-4425-96d0-c07c077af1e1",
   "metadata": {},
   "outputs": [
    {
     "data": {
      "text/plain": [
       "Branch: default\n",
       "========================="
      ]
     },
     "execution_count": 6,
     "metadata": {},
     "output_type": "execute_result"
    }
   ],
   "source": [
    "thread.branch"
   ]
  },
  {
   "cell_type": "code",
   "execution_count": 7,
   "id": "e39e44cb-607f-4520-be9e-ff339b09139b",
   "metadata": {},
   "outputs": [],
   "source": [
    "class NodeAction1: \n",
    "    def __init__(self):\n",
    "        self.node_name = \"Retrieve\"\n",
    "\n",
    "    def __call__(self, graphstate): \n",
    "        print(graphstate.latest_output)\n",
    "        graphstate.latest_output = \"After action_1: \" + (getattr(graphstate, \"latest_output\", \"\") or \"\")\n",
    "        return graphstate.latest_output \n",
    "\n",
    "class NodeAction2: \n",
    "    def __init__(self):\n",
    "        self.node_name = \"Read\"\n",
    "\n",
    "    def __call__(self, graphstate): \n",
    "        graphstate.latest_output = \"After action_2: \" + getattr(graphstate, \"latest_output\", \"\") \n",
    "        return graphstate.latest_output \n",
    "\n",
    "class NodeAction3: \n",
    "    def __init__(self):\n",
    "        self.node_name = \"Synthesize\"\n",
    "\n",
    "    def __call__(self, graphstate): \n",
    "        graphstate.latest_output = \"After action_3: \" + getattr(graphstate, \"latest_output\", \"\") \n",
    "        return graphstate.latest_output \n",
    "\n",
    "class NodeAction4: \n",
    "    def __init__(self):\n",
    "        self.node_name = \"Reflect\"\n",
    "\n",
    "    def __call__(self, graphstate): \n",
    "        graphstate.latest_output = \"After action_4: \" + getattr(graphstate, \"latest_output\", \"\") \n",
    "        return graphstate.latest_output \n",
    "\n",
    "class Edge1_2:\n",
    "    def __call__(self, graphstate):\n",
    "        import random\n",
    "        res = random.random() < 0.5\n",
    "        print(f\"go_through_edge_1->2: {res}\")\n",
    "        return res\n",
    "\n",
    "class Edge1_3:\n",
    "    def __call__(self, graphstate):\n",
    "        import random\n",
    "        res = random.random() < 0.5\n",
    "        print(f\"go_through_edge_1->3: {res}\")\n",
    "        return res\n",
    "\n",
    "class Edge2_3:\n",
    "    def __call__(self, graphstate):\n",
    "        import random\n",
    "        res = random.random() < 0.5\n",
    "        print(f\"go_through_edge_2->3: {res}\")\n",
    "        return res\n",
    "\n",
    "class Edge_reflect:\n",
    "    def __call__(self, graphstate):\n",
    "        import random\n",
    "        res = random.random() < 0.5\n",
    "        print(f\"go_through_reflection: {res}\")\n",
    "        return res"
   ]
  },
  {
   "cell_type": "code",
   "execution_count": 8,
   "id": "52b64f9f-1c71-4a0b-b7cb-265dc049c53b",
   "metadata": {},
   "outputs": [],
   "source": [
    "node1 = NodeAction1()\n",
    "node2 = NodeAction2()\n",
    "node3 = NodeAction3()\n",
    "edge_1_2 = Edge1_2() \n",
    "edge_1_3 = Edge1_3()\n",
    "edge_2_3 = Edge2_3() "
   ]
  },
  {
   "cell_type": "code",
   "execution_count": 9,
   "id": "4cad75f8-033e-4787-9e5c-6847f84aaa35",
   "metadata": {},
   "outputs": [],
   "source": [
    "agent_graph.add_node(node1)\n",
    "agent_graph.add_node(node2)\n",
    "agent_graph.add_node(node3)\n",
    "agent_graph.add_edge(node1, node2, runnable=edge_1_2)\n",
    "agent_graph.add_edge(node1, node3, runnable=edge_1_3)\n",
    "agent_graph.add_edge(node2, node3, runnable=edge_2_3)"
   ]
  },
  {
   "cell_type": "code",
   "execution_count": 10,
   "id": "370410d1-5d46-4a05-a7da-373328306567",
   "metadata": {},
   "outputs": [],
   "source": [
    "agent_graph.set_start_node(node1)\n",
    "agent_graph.set_end_node(node3)"
   ]
  },
  {
   "cell_type": "code",
   "execution_count": 11,
   "id": "886d0512-4594-4865-b9d7-0d4eac035081",
   "metadata": {},
   "outputs": [],
   "source": [
    "# for event in agent_graph.traverse():\n",
    "#     print(event)"
   ]
  },
  {
   "cell_type": "code",
   "execution_count": 12,
   "id": "86123541-67cf-4f02-8c78-9e9cd972f3f8",
   "metadata": {},
   "outputs": [
    {
     "name": "stdout",
     "output_type": "stream",
     "text": [
      "flowchart TD\n",
      "\ttest_action_1 --> RouteNode-8b31\n",
      "\tRouteNode-8b31 --> test_action_2\n",
      "\tRouteNode-8b31 --> test_action_3\n",
      "\ttest_action_2 --> RouteNode-6de0\n",
      "\tRouteNode-6de0 --> test_action_3\n",
      "\n"
     ]
    },
    {
     "data": {
      "text/html": [
       "<svg id=\"mermaid-svg\" width=\"100%\" xmlns=\"http://www.w3.org/2000/svg\" style=\"max-width: 199.33203125px;\" viewBox=\"-8 -8 199.33203125 386\" role=\"graphics-document document\" aria-roledescription=\"flowchart-v2\" xmlns:xlink=\"http://www.w3.org/1999/xlink\"><style xmlns=\"http://www.w3.org/1999/xhtml\">@import url(\"https://cdnjs.cloudflare.com/ajax/libs/font-awesome/6.5.2/css/all.min.css\");</style><style>#mermaid-svg{font-family:\"trebuchet ms\",verdana,arial,sans-serif;font-size:16px;fill:#333;}#mermaid-svg .error-icon{fill:#552222;}#mermaid-svg .error-text{fill:#552222;stroke:#552222;}#mermaid-svg .edge-thickness-normal{stroke-width:2px;}#mermaid-svg .edge-thickness-thick{stroke-width:3.5px;}#mermaid-svg .edge-pattern-solid{stroke-dasharray:0;}#mermaid-svg .edge-pattern-dashed{stroke-dasharray:3;}#mermaid-svg .edge-pattern-dotted{stroke-dasharray:2;}#mermaid-svg .marker{fill:#333333;stroke:#333333;}#mermaid-svg .marker.cross{stroke:#333333;}#mermaid-svg svg{font-family:\"trebuchet ms\",verdana,arial,sans-serif;font-size:16px;}#mermaid-svg .label{font-family:\"trebuchet ms\",verdana,arial,sans-serif;color:#333;}#mermaid-svg .cluster-label text{fill:#333;}#mermaid-svg .cluster-label span,#mermaid-svg p{color:#333;}#mermaid-svg .label text,#mermaid-svg span,#mermaid-svg p{fill:#333;color:#333;}#mermaid-svg .node rect,#mermaid-svg .node circle,#mermaid-svg .node ellipse,#mermaid-svg .node polygon,#mermaid-svg .node path{fill:#ECECFF;stroke:#9370DB;stroke-width:1px;}#mermaid-svg .flowchart-label text{text-anchor:middle;}#mermaid-svg .node .katex path{fill:#000;stroke:#000;stroke-width:1px;}#mermaid-svg .node .label{text-align:center;}#mermaid-svg .node.clickable{cursor:pointer;}#mermaid-svg .arrowheadPath{fill:#333333;}#mermaid-svg .edgePath .path{stroke:#333333;stroke-width:2.0px;}#mermaid-svg .flowchart-link{stroke:#333333;fill:none;}#mermaid-svg .edgeLabel{background-color:#e8e8e8;text-align:center;}#mermaid-svg .edgeLabel rect{opacity:0.5;background-color:#e8e8e8;fill:#e8e8e8;}#mermaid-svg .labelBkg{background-color:rgba(232, 232, 232, 0.5);}#mermaid-svg .cluster rect{fill:#ffffde;stroke:#aaaa33;stroke-width:1px;}#mermaid-svg .cluster text{fill:#333;}#mermaid-svg .cluster span,#mermaid-svg p{color:#333;}#mermaid-svg div.mermaidTooltip{position:absolute;text-align:center;max-width:200px;padding:2px;font-family:\"trebuchet ms\",verdana,arial,sans-serif;font-size:12px;background:hsl(80, 100%, 96.2745098039%);border:1px solid #aaaa33;border-radius:2px;pointer-events:none;z-index:100;}#mermaid-svg .flowchartTitleText{text-anchor:middle;font-size:18px;fill:#333;}#mermaid-svg :root{--mermaid-font-family:\"trebuchet ms\",verdana,arial,sans-serif;}</style><g><marker id=\"mermaid-svg_flowchart-pointEnd\" class=\"marker flowchart\" viewBox=\"0 0 10 10\" refX=\"6\" refY=\"5\" markerUnits=\"userSpaceOnUse\" markerWidth=\"12\" markerHeight=\"12\" orient=\"auto\"><path d=\"M 0 0 L 10 5 L 0 10 z\" class=\"arrowMarkerPath\" style=\"stroke-width: 1; stroke-dasharray: 1, 0;\"/></marker><marker id=\"mermaid-svg_flowchart-pointStart\" class=\"marker flowchart\" viewBox=\"0 0 10 10\" refX=\"4.5\" refY=\"5\" markerUnits=\"userSpaceOnUse\" markerWidth=\"12\" markerHeight=\"12\" orient=\"auto\"><path d=\"M 0 5 L 10 10 L 10 0 z\" class=\"arrowMarkerPath\" style=\"stroke-width: 1; stroke-dasharray: 1, 0;\"/></marker><marker id=\"mermaid-svg_flowchart-circleEnd\" class=\"marker flowchart\" viewBox=\"0 0 10 10\" refX=\"11\" refY=\"5\" markerUnits=\"userSpaceOnUse\" markerWidth=\"11\" markerHeight=\"11\" orient=\"auto\"><circle cx=\"5\" cy=\"5\" r=\"5\" class=\"arrowMarkerPath\" style=\"stroke-width: 1; stroke-dasharray: 1, 0;\"/></marker><marker id=\"mermaid-svg_flowchart-circleStart\" class=\"marker flowchart\" viewBox=\"0 0 10 10\" refX=\"-1\" refY=\"5\" markerUnits=\"userSpaceOnUse\" markerWidth=\"11\" markerHeight=\"11\" orient=\"auto\"><circle cx=\"5\" cy=\"5\" r=\"5\" class=\"arrowMarkerPath\" style=\"stroke-width: 1; stroke-dasharray: 1, 0;\"/></marker><marker id=\"mermaid-svg_flowchart-crossEnd\" class=\"marker cross flowchart\" viewBox=\"0 0 11 11\" refX=\"12\" refY=\"5.2\" markerUnits=\"userSpaceOnUse\" markerWidth=\"11\" markerHeight=\"11\" orient=\"auto\"><path d=\"M 1,1 l 9,9 M 10,1 l -9,9\" class=\"arrowMarkerPath\" style=\"stroke-width: 2; stroke-dasharray: 1, 0;\"/></marker><marker id=\"mermaid-svg_flowchart-crossStart\" class=\"marker cross flowchart\" viewBox=\"0 0 11 11\" refX=\"-1\" refY=\"5.2\" markerUnits=\"userSpaceOnUse\" markerWidth=\"11\" markerHeight=\"11\" orient=\"auto\"><path d=\"M 1,1 l 9,9 M 10,1 l -9,9\" class=\"arrowMarkerPath\" style=\"stroke-width: 2; stroke-dasharray: 1, 0;\"/></marker><g class=\"root\"><g class=\"clusters\"/><g class=\"edgePaths\"><path d=\"M66.234,34L66.234,38.167C66.234,42.333,66.234,50.667,66.234,58.117C66.234,65.567,66.234,72.133,66.234,75.417L66.234,78.7\" id=\"L-test_action_1-RouteNode-8b31-0\" class=\" edge-thickness-normal edge-pattern-solid flowchart-link LS-test_action_1 LE-RouteNode-8b31\" style=\"fill:none;\" marker-end=\"url(#mermaid-svg_flowchart-pointEnd)\"/><path d=\"M86.755,118L91.785,122.167C96.815,126.333,106.874,134.667,111.904,142.117C116.934,149.567,116.934,156.133,116.934,159.417L116.934,162.7\" id=\"L-RouteNode-8b31-test_action_2-0\" class=\" edge-thickness-normal edge-pattern-solid flowchart-link LS-RouteNode-8b31 LE-test_action_2\" style=\"fill:none;\" marker-end=\"url(#mermaid-svg_flowchart-pointEnd)\"/><path d=\"M45.713,118L40.684,122.167C35.654,126.333,25.595,134.667,20.565,145.833C15.535,157,15.535,171,15.535,185C15.535,199,15.535,213,15.535,227C15.535,241,15.535,255,15.535,269C15.535,283,15.535,297,19.885,307.603C24.234,318.206,32.933,325.413,37.282,329.016L41.632,332.619\" id=\"L-RouteNode-8b31-test_action_3-0\" class=\" edge-thickness-normal edge-pattern-solid flowchart-link LS-RouteNode-8b31 LE-test_action_3\" style=\"fill:none;\" marker-end=\"url(#mermaid-svg_flowchart-pointEnd)\"/><path d=\"M116.934,202L116.934,206.167C116.934,210.333,116.934,218.667,116.934,226.117C116.934,233.567,116.934,240.133,116.934,243.417L116.934,246.7\" id=\"L-test_action_2-RouteNode-6de0-0\" class=\" edge-thickness-normal edge-pattern-solid flowchart-link LS-test_action_2 LE-RouteNode-6de0\" style=\"fill:none;\" marker-end=\"url(#mermaid-svg_flowchart-pointEnd)\"/><path d=\"M116.934,286L116.934,290.167C116.934,294.333,116.934,302.667,112.584,310.436C108.235,318.206,99.536,325.413,95.186,329.016L90.837,332.619\" id=\"L-RouteNode-6de0-test_action_3-0\" class=\" edge-thickness-normal edge-pattern-solid flowchart-link LS-RouteNode-6de0 LE-test_action_3\" style=\"fill:none;\" marker-end=\"url(#mermaid-svg_flowchart-pointEnd)\"/></g><g class=\"edgeLabels\"><g class=\"edgeLabel\"><g class=\"label\" transform=\"translate(0, 0)\"><foreignObject width=\"0\" height=\"0\"><div xmlns=\"http://www.w3.org/1999/xhtml\" style=\"display: inline-block; white-space: nowrap;\"><span class=\"edgeLabel\"></span></div></foreignObject></g></g><g class=\"edgeLabel\"><g class=\"label\" transform=\"translate(0, 0)\"><foreignObject width=\"0\" height=\"0\"><div xmlns=\"http://www.w3.org/1999/xhtml\" style=\"display: inline-block; white-space: nowrap;\"><span class=\"edgeLabel\"></span></div></foreignObject></g></g><g class=\"edgeLabel\"><g class=\"label\" transform=\"translate(0, 0)\"><foreignObject width=\"0\" height=\"0\"><div xmlns=\"http://www.w3.org/1999/xhtml\" style=\"display: inline-block; white-space: nowrap;\"><span class=\"edgeLabel\"></span></div></foreignObject></g></g><g class=\"edgeLabel\"><g class=\"label\" transform=\"translate(0, 0)\"><foreignObject width=\"0\" height=\"0\"><div xmlns=\"http://www.w3.org/1999/xhtml\" style=\"display: inline-block; white-space: nowrap;\"><span class=\"edgeLabel\"></span></div></foreignObject></g></g><g class=\"edgeLabel\"><g class=\"label\" transform=\"translate(0, 0)\"><foreignObject width=\"0\" height=\"0\"><div xmlns=\"http://www.w3.org/1999/xhtml\" style=\"display: inline-block; white-space: nowrap;\"><span class=\"edgeLabel\"></span></div></foreignObject></g></g></g><g class=\"nodes\"><g class=\"node default default flowchart-label\" id=\"flowchart-test_action_1-0\" data-node=\"true\" data-id=\"test_action_1\" transform=\"translate(66.234375, 17)\"><rect class=\"basic label-container\" style=\"\" rx=\"0\" ry=\"0\" x=\"-56.3125\" y=\"-17\" width=\"112.625\" height=\"34\"/><g class=\"label\" style=\"\" transform=\"translate(-48.8125, -9.5)\"><rect/><foreignObject width=\"97.625\" height=\"19\"><div xmlns=\"http://www.w3.org/1999/xhtml\" style=\"display: inline-block; white-space: nowrap;\"><span class=\"nodeLabel\">test_action_1</span></div></foreignObject></g></g><g class=\"node default default flowchart-label\" id=\"flowchart-RouteNode-8b31-1\" data-node=\"true\" data-id=\"RouteNode-8b31\" transform=\"translate(66.234375, 101)\"><rect class=\"basic label-container\" style=\"\" rx=\"0\" ry=\"0\" x=\"-66.234375\" y=\"-17\" width=\"132.46875\" height=\"34\"/><g class=\"label\" style=\"\" transform=\"translate(-58.734375, -9.5)\"><rect/><foreignObject width=\"117.46875\" height=\"19\"><div xmlns=\"http://www.w3.org/1999/xhtml\" style=\"display: inline-block; white-space: nowrap;\"><span class=\"nodeLabel\">RouteNode-8b31</span></div></foreignObject></g></g><g class=\"node default default flowchart-label\" id=\"flowchart-test_action_2-3\" data-node=\"true\" data-id=\"test_action_2\" transform=\"translate(116.93359375, 185)\"><rect class=\"basic label-container\" style=\"\" rx=\"0\" ry=\"0\" x=\"-56.3125\" y=\"-17\" width=\"112.625\" height=\"34\"/><g class=\"label\" style=\"\" transform=\"translate(-48.8125, -9.5)\"><rect/><foreignObject width=\"97.625\" height=\"19\"><div xmlns=\"http://www.w3.org/1999/xhtml\" style=\"display: inline-block; white-space: nowrap;\"><span class=\"nodeLabel\">test_action_2</span></div></foreignObject></g></g><g class=\"node default default flowchart-label\" id=\"flowchart-test_action_3-5\" data-node=\"true\" data-id=\"test_action_3\" transform=\"translate(66.234375, 353)\"><rect class=\"basic label-container\" style=\"\" rx=\"0\" ry=\"0\" x=\"-56.3125\" y=\"-17\" width=\"112.625\" height=\"34\"/><g class=\"label\" style=\"\" transform=\"translate(-48.8125, -9.5)\"><rect/><foreignObject width=\"97.625\" height=\"19\"><div xmlns=\"http://www.w3.org/1999/xhtml\" style=\"display: inline-block; white-space: nowrap;\"><span class=\"nodeLabel\">test_action_3</span></div></foreignObject></g></g><g class=\"node default default flowchart-label\" id=\"flowchart-RouteNode-6de0-7\" data-node=\"true\" data-id=\"RouteNode-6de0\" transform=\"translate(116.93359375, 269)\"><rect class=\"basic label-container\" style=\"\" rx=\"0\" ry=\"0\" x=\"-66.3984375\" y=\"-17\" width=\"132.796875\" height=\"34\"/><g class=\"label\" style=\"\" transform=\"translate(-58.8984375, -9.5)\"><rect/><foreignObject width=\"117.796875\" height=\"19\"><div xmlns=\"http://www.w3.org/1999/xhtml\" style=\"display: inline-block; white-space: nowrap;\"><span class=\"nodeLabel\">RouteNode-6de0</span></div></foreignObject></g></g></g></g></g></svg>"
      ],
      "text/plain": [
       "<mermaid._main.Mermaid at 0x109dbecb0>"
      ]
     },
     "execution_count": 12,
     "metadata": {},
     "output_type": "execute_result"
    }
   ],
   "source": [
    "agent_graph.visualize()"
   ]
  }
 ],
 "metadata": {
  "kernelspec": {
   "display_name": "chatflare",
   "language": "python",
   "name": "chatflare-venv"
  },
  "language_info": {
   "codemirror_mode": {
    "name": "ipython",
    "version": 3
   },
   "file_extension": ".py",
   "mimetype": "text/x-python",
   "name": "python",
   "nbconvert_exporter": "python",
   "pygments_lexer": "ipython3",
   "version": "3.10.10"
  }
 },
 "nbformat": 4,
 "nbformat_minor": 5
}
