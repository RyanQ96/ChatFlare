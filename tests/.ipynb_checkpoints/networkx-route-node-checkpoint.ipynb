{
 "cells": [
  {
   "cell_type": "code",
   "execution_count": 4,
   "id": "599ec375-96b3-49ac-b2c2-8a6fee8ede52",
   "metadata": {},
   "outputs": [],
   "source": [
    "import networkx as nx"
   ]
  },
  {
   "cell_type": "code",
   "execution_count": null,
   "id": "91460278-98b0-4126-bf4c-757d0b84f064",
   "metadata": {},
   "outputs": [],
   "source": [
    "class RouteNode: \n",
    "    def __init__(self, source_node=None, target_nodes = []):\n",
    "        self.source_node = source_node\n",
    "        self.target_nodes = target_nodes\n",
    "\n",
    "    def runnable(self): \n",
    "        "
   ]
  },
  {
   "cell_type": "code",
   "execution_count": 2,
   "id": "1460e3c7-dc1e-44bf-8eaa-adbb908ef89d",
   "metadata": {},
   "outputs": [],
   "source": [
    "class Node:\n",
    "    def __init__(self, name):\n",
    "        self.name = name "
   ]
  },
  {
   "cell_type": "code",
   "execution_count": 3,
   "id": "95bebe79-b434-4f73-99ed-a141ea49537c",
   "metadata": {},
   "outputs": [],
   "source": [
    "node1 = Node('node1')\n",
    "node2 = Node('node2')\n",
    "node3 = Node('node3')"
   ]
  },
  {
   "cell_type": "code",
   "execution_count": 8,
   "id": "16f17055-d40f-44de-9cab-37c18bc37412",
   "metadata": {},
   "outputs": [],
   "source": [
    "G = nx.DiGraph()\n",
    "G.add_node(node1)\n",
    "G.add_node(node2)\n",
    "G.add_node(node3)"
   ]
  },
  {
   "cell_type": "code",
   "execution_count": 6,
   "id": "5a58984d-5d33-4861-8299-5bc333f8bd10",
   "metadata": {},
   "outputs": [],
   "source": [
    "G"
   ]
  },
  {
   "cell_type": "code",
   "execution_count": null,
   "id": "983a8be9-7c21-4a21-9c50-312f4ed71e65",
   "metadata": {},
   "outputs": [],
   "source": []
  }
 ],
 "metadata": {
  "kernelspec": {
   "display_name": "chatflare",
   "language": "python",
   "name": "chatflare-venv"
  },
  "language_info": {
   "codemirror_mode": {
    "name": "ipython",
    "version": 3
   },
   "file_extension": ".py",
   "mimetype": "text/x-python",
   "name": "python",
   "nbconvert_exporter": "python",
   "pygments_lexer": "ipython3",
   "version": "3.10.10"
  }
 },
 "nbformat": 4,
 "nbformat_minor": 5
}
