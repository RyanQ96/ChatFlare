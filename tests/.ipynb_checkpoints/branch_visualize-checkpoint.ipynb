{
 "cells": [
  {
   "cell_type": "code",
   "execution_count": 1,
   "id": "5d25b69b-7620-4091-8a6e-43ecced2c64d",
   "metadata": {},
   "outputs": [],
   "source": [
    "%run setup.py"
   ]
  },
  {
   "cell_type": "code",
   "execution_count": 2,
   "id": "607e7e4f-79f8-40fa-b787-660fc8b7c7c5",
   "metadata": {},
   "outputs": [],
   "source": [
    "from chatflare.tracker.base import * "
   ]
  },
  {
   "cell_type": "code",
   "execution_count": 3,
   "id": "650ad015-37c6-4db4-832a-5002c91494c6",
   "metadata": {},
   "outputs": [],
   "source": [
    "t1 = Task(\"retrieve\", None)\n",
    "t2 = Task(\"read\", None)\n",
    "t3 = Task(\"synthesis\", None)"
   ]
  },
  {
   "cell_type": "code",
   "execution_count": 4,
   "id": "df6477c1-2d70-4752-b2b2-9c36470e31cf",
   "metadata": {},
   "outputs": [],
   "source": [
    "c1 = Commit(t1.id)\n",
    "c2 = Commit(t2.id, t1.id)\n",
    "c3 = Commit(t3.id, t2.id)"
   ]
  },
  {
   "cell_type": "code",
   "execution_count": 5,
   "id": "39f8aa6b-b7f3-40de-ba23-8945c5d2cf50",
   "metadata": {},
   "outputs": [
    {
     "data": {
      "text/plain": [
       "'556bbb2e-0fe4-4a01-892f-2df9b300e23b'"
      ]
     },
     "execution_count": 5,
     "metadata": {},
     "output_type": "execute_result"
    }
   ],
   "source": [
    "c1.action_ids"
   ]
  },
  {
   "cell_type": "code",
   "execution_count": 6,
   "id": "11984aeb-fa5f-44e2-a0ff-023da14fdd38",
   "metadata": {},
   "outputs": [],
   "source": [
    "b1 = Branch(\"agent-1\", c3.id, [c1, c2, c3])"
   ]
  },
  {
   "cell_type": "code",
   "execution_count": 7,
   "id": "646c4fbf-6888-4410-a736-e86dc54b0f98",
   "metadata": {
    "scrolled": true
   },
   "outputs": [
    {
     "data": {
      "text/plain": [
       "Branch: agent-1\n",
       "=========================\n",
       "Commit fea530b8\t(*HEAD)\n",
       "     Ʌ\n",
       "     |\n",
       "Commit 832410e9\n",
       "     Ʌ\n",
       "     |\n",
       "Commit f11697ca"
      ]
     },
     "execution_count": 7,
     "metadata": {},
     "output_type": "execute_result"
    }
   ],
   "source": [
    "b1"
   ]
  },
  {
   "cell_type": "code",
   "execution_count": 8,
   "id": "6ede5964-6fd6-41cd-be6d-d5974cb9930d",
   "metadata": {},
   "outputs": [],
   "source": [
    "b2 = b1.create_new_branch_from_commit(\"agent-1-update\", c2)"
   ]
  },
  {
   "cell_type": "code",
   "execution_count": 12,
   "id": "e85e92f6-041b-4266-bf5f-48a97fc05ca0",
   "metadata": {},
   "outputs": [
    {
     "data": {
      "text/plain": [
       "Branch: agent-1-update\n",
       "=========================\n",
       "Commit 832410e9\t(*HEAD)\n",
       "     Ʌ\n",
       "     |\n",
       "Commit f11697ca"
      ]
     },
     "execution_count": 12,
     "metadata": {},
     "output_type": "execute_result"
    }
   ],
   "source": [
    "b2"
   ]
  },
  {
   "cell_type": "code",
   "execution_count": 69,
   "id": "f8891c14-d41b-4819-9ea1-6a13f894cd40",
   "metadata": {},
   "outputs": [],
   "source": [
    "from typing import List\n",
    "\n",
    "def visualize_branches(branches: List[Branch]): \n",
    "    \"\"\"Require branches must share some common commit\"\"\"\n",
    "    levels = [] \n",
    "    num_of_branches = len(branches)\n",
    "    max_num_commits = max([b.length for b in branches])    \n",
    "    \n",
    "    for i in range(max_num_commits): \n",
    "        level = [] \n",
    "        for b in branches: \n",
    "            if i < b.length: \n",
    "                current = b.commits[i]\n",
    "                if len(level) > 0 and current.id == level[-1].id:\n",
    "                    level.append(\"+\")\n",
    "                else:\n",
    "                    level.append(current)\n",
    "            else:\n",
    "                level.append(\"_\")\n",
    "        levels.append(level)\n",
    "\n",
    "\n",
    "    branches_display_str = \"\" \n",
    "    for level in range(len(levels)-1, -1, -1): \n",
    "        arrows_1 = \"\"\n",
    "        arrows_2 = \"\"\n",
    "        current = None \n",
    "        for c in levels[level]: \n",
    "            if c == '_': \n",
    "                branches_display_str += \"=\"*17\n",
    "                if level > 0:\n",
    "                    arrows_1 += \" \"*15\n",
    "                    arrows_2 += \" \"*15\n",
    "            elif c == '+' and current is not None:\n",
    "                branches_display_str += c + \"=\"*2\n",
    "                if level > 0:\n",
    "                    arrows_1 += \" /\" + \" \"*15\n",
    "                    arrows_2 += \"/ \" + \" \"*15\n",
    "            elif c != current and type(c) is Commit:\n",
    "                branches_display_str += f\"{c}{' '*2}\"\n",
    "                current = c\n",
    "                if level > 0:\n",
    "                    if len(arrows) != 0: \n",
    "                        arrows_1 += \" \"*2\n",
    "                        arrows_2 += \" \"*2\n",
    "                    arrows_1 += \"     Ʌ         \"\n",
    "                    arrows_2 += \"     |         \"\n",
    "            else: \n",
    "                raise ValueError(\"check this\")\n",
    "        branches_display_str = f\"{branches_display_str}\\n{arrows_1}\\n{arrows_2}\\n\"\n",
    "    \n",
    "    branch_titles = \"\"\n",
    "    sep_lines = \"\"\n",
    "    for b in branches:\n",
    "        branch_titles += (b.branch_name.ljust(15, ' ') if len(b.branch_name) <= 15 else b.branch_name[:12] + \"...\") + \" \"*2\n",
    "        sep_lines += (\"=\"*15 + \" \"*2)\n",
    "    # branch_titles += \"\\n\"\n",
    "    # sep_lines += \"\\n\"\n",
    "    \n",
    "    branches_display_str = f\"{branch_titles}\\n{sep_lines}\\n{branches_display_str}\"\n",
    "    print(branches_display_str)\n",
    "    return levels"
   ]
  },
  {
   "cell_type": "code",
   "execution_count": 70,
   "id": "c6fffed4-ce23-4342-ad7d-6724f8c27c39",
   "metadata": {},
   "outputs": [
    {
     "name": "stdout",
     "output_type": "stream",
     "text": [
      "agent-1          agent-1-update   \n",
      "===============  ===============  \n",
      "Commit fea530b8  =================\n",
      "     Ʌ                        \n",
      "     |                        \n",
      "Commit 832410e9  +==\n",
      "     Ʌ          /               \n",
      "     |         /                \n",
      "Commit f11697ca  +==\n",
      "\n",
      "\n",
      "\n"
     ]
    },
    {
     "data": {
      "text/plain": [
       "[[Commit f11697ca, '+'], [Commit 832410e9, '+'], [Commit fea530b8, '_']]"
      ]
     },
     "execution_count": 70,
     "metadata": {},
     "output_type": "execute_result"
    }
   ],
   "source": [
    "res = visualize_branches([b1, b2])\n",
    "res"
   ]
  },
  {
   "cell_type": "code",
   "execution_count": 34,
   "id": "445393e6-7c37-4e49-9c09-6d221a95a6b1",
   "metadata": {},
   "outputs": [
    {
     "data": {
      "text/plain": [
       "True"
      ]
     },
     "execution_count": 34,
     "metadata": {},
     "output_type": "execute_result"
    }
   ],
   "source": [
    "type(c1) is not str"
   ]
  },
  {
   "cell_type": "code",
   "execution_count": 66,
   "id": "1ebd2a3c-a1f6-433a-82a4-85f80f12ce1e",
   "metadata": {},
   "outputs": [],
   "source": [
    "a = \"123 \""
   ]
  },
  {
   "cell_type": "code",
   "execution_count": 68,
   "id": "e3d87c1e-2529-4876-9f2e-50aa5105855d",
   "metadata": {},
   "outputs": [
    {
     "data": {
      "text/plain": [
       "'123 ======'"
      ]
     },
     "execution_count": 68,
     "metadata": {},
     "output_type": "execute_result"
    }
   ],
   "source": [
    "a.ljust(10, \"=\")"
   ]
  },
  {
   "cell_type": "code",
   "execution_count": 24,
   "id": "49c38877-f35b-4dd6-878c-9b94a6863559",
   "metadata": {},
   "outputs": [
    {
     "data": {
      "text/plain": [
       "23"
      ]
     },
     "execution_count": 24,
     "metadata": {},
     "output_type": "execute_result"
    }
   ],
   "source": [
    "len(\"Commit 832410e9\t(*HEAD)\")"
   ]
  },
  {
   "cell_type": "code",
   "execution_count": 31,
   "id": "233984bb-8fe6-4052-9ac1-ae8f759f67d7",
   "metadata": {},
   "outputs": [
    {
     "data": {
      "text/plain": [
       "''"
      ]
     },
     "execution_count": 31,
     "metadata": {},
     "output_type": "execute_result"
    }
   ],
   "source": [
    "\"\"\"\n",
    "Commit 832410e9  Commit 832410e9  \n",
    "     Ʌ          /\n",
    "     |         /\n",
    "Commit 832410e9  \n",
    "\"\"\""
   ]
  },
  {
   "cell_type": "code",
   "execution_count": 37,
   "id": "47a5d722-a439-4842-891e-d89eb2317d2b",
   "metadata": {},
   "outputs": [
    {
     "data": {
      "text/plain": [
       "15"
      ]
     },
     "execution_count": 37,
     "metadata": {},
     "output_type": "execute_result"
    }
   ],
   "source": [
    "len(\"Commit 832410e9\")"
   ]
  },
  {
   "cell_type": "code",
   "execution_count": 33,
   "id": "c8372cd5-17d1-4994-a1ca-e1b2ed41c27b",
   "metadata": {},
   "outputs": [
    {
     "data": {
      "text/plain": [
       "15"
      ]
     },
     "execution_count": 33,
     "metadata": {},
     "output_type": "execute_result"
    }
   ],
   "source": [
    "len(\"     |         \")"
   ]
  },
  {
   "cell_type": "code",
   "execution_count": 29,
   "id": "31119cf5-76f1-445e-9ed5-8fe5e22899ec",
   "metadata": {},
   "outputs": [
    {
     "data": {
      "text/plain": [
       "[10, 9, 8, 7, 6, 5, 4, 3, 2, 1]"
      ]
     },
     "execution_count": 29,
     "metadata": {},
     "output_type": "execute_result"
    }
   ],
   "source": [
    "list(range(10, 0, -1))"
   ]
  },
  {
   "cell_type": "code",
   "execution_count": null,
   "id": "996400da-bf28-4e5d-af99-20c8ebe9bfee",
   "metadata": {},
   "outputs": [],
   "source": [
    "c3 c4\n",
    "c2 c2\n",
    "c1 c1"
   ]
  }
 ],
 "metadata": {
  "kernelspec": {
   "display_name": "chatflare",
   "language": "python",
   "name": "chatflare-venv"
  },
  "language_info": {
   "codemirror_mode": {
    "name": "ipython",
    "version": 3
   },
   "file_extension": ".py",
   "mimetype": "text/x-python",
   "name": "python",
   "nbconvert_exporter": "python",
   "pygments_lexer": "ipython3",
   "version": "3.10.10"
  }
 },
 "nbformat": 4,
 "nbformat_minor": 5
}
