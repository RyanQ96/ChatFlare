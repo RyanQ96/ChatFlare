{
 "cells": [
  {
   "cell_type": "code",
   "execution_count": 13,
   "id": "9acf3c3e-b4f1-4eb3-a04e-8c82379c84b4",
   "metadata": {},
   "outputs": [
    {
     "data": {
      "text/plain": [
       "True"
      ]
     },
     "execution_count": 13,
     "metadata": {},
     "output_type": "execute_result"
    }
   ],
   "source": [
    "from dotenv import load_dotenv\n",
    "load_dotenv() "
   ]
  },
  {
   "cell_type": "code",
   "execution_count": 14,
   "id": "1fc03a2b-05a1-4aeb-b663-5b97a07218b2",
   "metadata": {},
   "outputs": [],
   "source": [
    "import tiktoken\n",
    "from PyPDF2 import PdfReader\n",
    "import os\n",
    "from openai import OpenAI\n"
   ]
  },
  {
   "cell_type": "code",
   "execution_count": 5,
   "id": "137ce444-fc63-492a-b56a-f21a15257d13",
   "metadata": {},
   "outputs": [],
   "source": [
    "pdf_path = \"example_docs/sample_med2.pdf\""
   ]
  },
  {
   "cell_type": "code",
   "execution_count": 6,
   "id": "b9708b46-1e7b-4bfe-ae3e-15ce456635c8",
   "metadata": {},
   "outputs": [],
   "source": [
    "with open(pdf_path, 'rb') as file:\n",
    "    reader = PdfReader(file)\n",
    "    num_pages = len(reader.pages)\n",
    "    text = \"\"\n",
    "    inside_section = False\n",
    "    pages = []\n",
    "    for i in range(num_pages):\n",
    "        page = reader.pages[i]\n",
    "        page_text = page.extract_text()\n",
    "        pages.append(page_text)"
   ]
  },
  {
   "cell_type": "code",
   "execution_count": 7,
   "id": "961b37dc-4e6f-49e9-8d3a-7b651efab050",
   "metadata": {},
   "outputs": [],
   "source": [
    "sumLength = 0\n",
    "for page in pages: \n",
    "    sumLength += len(page)\n",
    "\n",
    "summed_doc = \"\\n\".join(pages)"
   ]
  },
  {
   "cell_type": "code",
   "execution_count": 8,
   "id": "b1aad221-727a-402a-a429-76e83518d763",
   "metadata": {},
   "outputs": [],
   "source": [
    "enc = tiktoken.encoding_for_model(\"gpt-4o\")"
   ]
  },
  {
   "cell_type": "code",
   "execution_count": 9,
   "id": "29a2a6cb-5a0b-463d-85c0-9ec30636ef9f",
   "metadata": {},
   "outputs": [],
   "source": [
    "res = enc.encode(summed_doc)"
   ]
  },
  {
   "cell_type": "code",
   "execution_count": 10,
   "id": "1f0e7e4f-06de-4692-9610-8a23f82c7130",
   "metadata": {},
   "outputs": [
    {
     "data": {
      "text/plain": [
       "11863"
      ]
     },
     "execution_count": 10,
     "metadata": {},
     "output_type": "execute_result"
    }
   ],
   "source": [
    "len(res)"
   ]
  },
  {
   "cell_type": "code",
   "execution_count": 33,
   "id": "9e3f9569-1857-467a-8c2f-44d10208565f",
   "metadata": {},
   "outputs": [],
   "source": [
    "client = OpenAI(\n",
    "    # This is the default and can be omitted\n",
    "    api_key=os.environ.get(\"OPENAI_API_KEY\"),\n",
    ")\n",
    "\n",
    "chat_completion = client.chat.completions.create(\n",
    "    messages=[\n",
    "        {\n",
    "            \"role\": \"user\",\n",
    "            \"content\": f\"summarize this paper for me please: ```{summed_doc[:1000]}```. response must format in json format with key as 'summary'\",\n",
    "        }\n",
    "    ],\n",
    "    model=\"gpt-4o\",\n",
    "    response_format={\"type\": \"json_object\"},\n",
    ")"
   ]
  },
  {
   "cell_type": "code",
   "execution_count": 34,
   "id": "079a8eea-6e28-4ff0-9f5a-1443d8d0450c",
   "metadata": {},
   "outputs": [
    {
     "name": "stdout",
     "output_type": "stream",
     "text": [
      "{\n",
      "  \"summary\": \"This paper investigates whether the timing of telmisartan administration (morning versus evening) impacts its efficacy in treating essential hypertension. Prior research has shown that valsartan, another angiotensin receptor blocker (ARB), is more effective when taken at bedtime rather than on waking, leading to better blood pressure control during sleep without losing overall 24-hour efficacy. The study aims to determine if this effect is class-specific to ARBs or unique to valsartan. Given that telmisartan has a longer terminal half-life compared to other ARBs, the study evaluates its time-dependent antihypertensive effects in 215 hypertensive patients (114 men and 101 women, average age 46.4 years), who were randomly assigned to take 80 mg of telmisartan daily either on awakening or at bedtime.\"\n",
      "}\n"
     ]
    }
   ],
   "source": [
    "print(chat_completion.choices[0].message.content)"
   ]
  },
  {
   "cell_type": "code",
   "execution_count": 35,
   "id": "58c51fdf-8965-4486-a310-c4d1ce50bdfd",
   "metadata": {},
   "outputs": [],
   "source": [
    "import json "
   ]
  },
  {
   "cell_type": "code",
   "execution_count": 36,
   "id": "49ab1163-da74-4d07-9b7d-dec4e2147b6f",
   "metadata": {},
   "outputs": [
    {
     "data": {
      "text/plain": [
       "{'summary': 'This paper investigates whether the timing of telmisartan administration (morning versus evening) impacts its efficacy in treating essential hypertension. Prior research has shown that valsartan, another angiotensin receptor blocker (ARB), is more effective when taken at bedtime rather than on waking, leading to better blood pressure control during sleep without losing overall 24-hour efficacy. The study aims to determine if this effect is class-specific to ARBs or unique to valsartan. Given that telmisartan has a longer terminal half-life compared to other ARBs, the study evaluates its time-dependent antihypertensive effects in 215 hypertensive patients (114 men and 101 women, average age 46.4 years), who were randomly assigned to take 80 mg of telmisartan daily either on awakening or at bedtime.'}"
      ]
     },
     "execution_count": 36,
     "metadata": {},
     "output_type": "execute_result"
    }
   ],
   "source": [
    "json.loads(chat_completion.choices[0].message.content)"
   ]
  },
  {
   "cell_type": "code",
   "execution_count": 31,
   "id": "69b97611-09b0-4a9a-8747-1529cfe052fe",
   "metadata": {},
   "outputs": [
    {
     "data": {
      "text/plain": [
       "12383"
      ]
     },
     "execution_count": 31,
     "metadata": {},
     "output_type": "execute_result"
    }
   ],
   "source": [
    "chat_completion.usage.total_tokens"
   ]
  },
  {
   "cell_type": "code",
   "execution_count": null,
   "id": "4e19b6c3-c24e-4773-a513-bfdf361e1147",
   "metadata": {},
   "outputs": [],
   "source": []
  }
 ],
 "metadata": {
  "kernelspec": {
   "display_name": "chatflare",
   "language": "python",
   "name": "chatflare-venv"
  },
  "language_info": {
   "codemirror_mode": {
    "name": "ipython",
    "version": 3
   },
   "file_extension": ".py",
   "mimetype": "text/x-python",
   "name": "python",
   "nbconvert_exporter": "python",
   "pygments_lexer": "ipython3",
   "version": "3.10.10"
  }
 },
 "nbformat": 4,
 "nbformat_minor": 5
}
