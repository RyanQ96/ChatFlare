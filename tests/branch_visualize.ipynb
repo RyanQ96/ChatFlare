{
 "cells": [
  {
   "cell_type": "code",
   "execution_count": 3,
   "id": "5d25b69b-7620-4091-8a6e-43ecced2c64d",
   "metadata": {},
   "outputs": [],
   "source": [
    "%run setup.py"
   ]
  },
  {
   "cell_type": "code",
   "execution_count": 24,
   "id": "6b15c5b0-8e9b-4c10-bc8c-9ec14bf69b3d",
   "metadata": {},
   "outputs": [],
   "source": [
    "preset = [5, 12, 23, 40]"
   ]
  },
  {
   "cell_type": "code",
   "execution_count": 4,
   "id": "607e7e4f-79f8-40fa-b787-660fc8b7c7c5",
   "metadata": {},
   "outputs": [],
   "source": [
    "from chatflare.tracker import * "
   ]
  },
  {
   "cell_type": "code",
   "execution_count": 5,
   "id": "650ad015-37c6-4db4-832a-5002c91494c6",
   "metadata": {},
   "outputs": [],
   "source": [
    "t1 = Task(\"retrieve\", None)\n",
    "t2 = Task(\"read\", None)\n",
    "t3 = Task(\"synthesis\", None)"
   ]
  },
  {
   "cell_type": "code",
   "execution_count": 4,
   "id": "1c50878d-6dc3-42b3-ae1b-cc995304c07f",
   "metadata": {},
   "outputs": [],
   "source": [
    "t4 = Task(\"synthesis\", None)"
   ]
  },
  {
   "cell_type": "code",
   "execution_count": 5,
   "id": "df6477c1-2d70-4752-b2b2-9c36470e31cf",
   "metadata": {},
   "outputs": [],
   "source": [
    "c1 = Commit(t1.id)\n",
    "c2 = Commit(t2.id, t1.id)\n",
    "c3 = Commit(t3.id, t2.id)"
   ]
  },
  {
   "cell_type": "code",
   "execution_count": 6,
   "id": "878362cd-790f-4764-b3e3-4be11a5d2767",
   "metadata": {},
   "outputs": [],
   "source": [
    "c4 = Commit(t4.id)"
   ]
  },
  {
   "cell_type": "code",
   "execution_count": 7,
   "id": "39f8aa6b-b7f3-40de-ba23-8945c5d2cf50",
   "metadata": {},
   "outputs": [
    {
     "data": {
      "text/plain": [
       "'4e32f79e-d916-44d7-a57a-db063d459bc5'"
      ]
     },
     "execution_count": 7,
     "metadata": {},
     "output_type": "execute_result"
    }
   ],
   "source": [
    "c1.action_ids"
   ]
  },
  {
   "cell_type": "code",
   "execution_count": 8,
   "id": "11984aeb-fa5f-44e2-a0ff-023da14fdd38",
   "metadata": {},
   "outputs": [],
   "source": [
    "b1 = Branch(\"agent-1\", c3.id, [c1, c2, c3])"
   ]
  },
  {
   "cell_type": "code",
   "execution_count": 9,
   "id": "646c4fbf-6888-4410-a736-e86dc54b0f98",
   "metadata": {
    "scrolled": true
   },
   "outputs": [
    {
     "data": {
      "text/plain": [
       "Branch: agent-1\n",
       "=========================\n",
       "Commit 55cdd7f9\t(*HEAD)\n",
       "     Ʌ\n",
       "     |\n",
       "Commit c0916c59\n",
       "     Ʌ\n",
       "     |\n",
       "Commit 68916c02"
      ]
     },
     "execution_count": 9,
     "metadata": {},
     "output_type": "execute_result"
    }
   ],
   "source": [
    "b1"
   ]
  },
  {
   "cell_type": "code",
   "execution_count": 10,
   "id": "6ede5964-6fd6-41cd-be6d-d5974cb9930d",
   "metadata": {},
   "outputs": [],
   "source": [
    "b2 = b1.create_new_branch_from_commit(\"agent-1-update\", c2)"
   ]
  },
  {
   "cell_type": "code",
   "execution_count": 11,
   "id": "44e97cc0-6eab-4772-8ac5-f4f5655eeb2d",
   "metadata": {},
   "outputs": [],
   "source": [
    "b2.add_commit(c4)"
   ]
  },
  {
   "cell_type": "code",
   "execution_count": 12,
   "id": "e85e92f6-041b-4266-bf5f-48a97fc05ca0",
   "metadata": {},
   "outputs": [
    {
     "data": {
      "text/plain": [
       "Branch: agent-1-update\n",
       "=========================\n",
       "Commit 661ffb93\t(*HEAD)\n",
       "     Ʌ\n",
       "     |\n",
       "Commit c0916c59\n",
       "     Ʌ\n",
       "     |\n",
       "Commit 68916c02"
      ]
     },
     "execution_count": 12,
     "metadata": {},
     "output_type": "execute_result"
    }
   ],
   "source": [
    "b2"
   ]
  },
  {
   "cell_type": "code",
   "execution_count": 13,
   "id": "4314887a-d035-4bb5-b0d6-7a794ccfe063",
   "metadata": {},
   "outputs": [
    {
     "name": "stdout",
     "output_type": "stream",
     "text": [
      "agent-1          agent-1-update   \n",
      "===============  ===============  \n",
      "Commit 55cdd7f9  Commit 661ffb93  \n",
      "     Ʌ          /               \n",
      "     |         /                \n",
      "Commit c0916c59                   \n",
      "     Ʌ                        \n",
      "     |                        \n",
      "Commit 68916c02                   \n",
      "\n"
     ]
    }
   ],
   "source": [
    "visualize_branches([b1, b2])"
   ]
  },
  {
   "cell_type": "code",
   "execution_count": 14,
   "id": "ff315e04-87e6-46f3-88d0-792bb03ff542",
   "metadata": {},
   "outputs": [],
   "source": [
    "b2.rollback(b2.commits[1])"
   ]
  },
  {
   "cell_type": "code",
   "execution_count": 15,
   "id": "b07180ba-29de-4350-8d73-ae07b9cd9731",
   "metadata": {},
   "outputs": [
    {
     "data": {
      "text/plain": [
       "Branch: agent-1-update\n",
       "=========================\n",
       "Commit c0916c59\t(*HEAD)\n",
       "     Ʌ\n",
       "     |\n",
       "Commit 68916c02"
      ]
     },
     "execution_count": 15,
     "metadata": {},
     "output_type": "execute_result"
    }
   ],
   "source": [
    "b2"
   ]
  },
  {
   "cell_type": "code",
   "execution_count": 16,
   "id": "a58059fa-98ba-4d4e-8a5a-2cdef21136f6",
   "metadata": {},
   "outputs": [],
   "source": [
    "t10 = Task(\"synthesis\", None)\n",
    "c10 = Commit(t10)"
   ]
  },
  {
   "cell_type": "code",
   "execution_count": 17,
   "id": "f2b06f53-3141-4405-ba00-6a151872da61",
   "metadata": {},
   "outputs": [],
   "source": [
    "b1.add_commit(c10)"
   ]
  },
  {
   "cell_type": "code",
   "execution_count": 18,
   "id": "8b9346dd-3cc3-49fd-b9da-a2d291adcefb",
   "metadata": {},
   "outputs": [
    {
     "name": "stdout",
     "output_type": "stream",
     "text": [
      "agent-1          agent-1-update   \n",
      "===============  ===============  \n",
      "Commit 529ae9d5                   \n",
      "     Ʌ                        \n",
      "     |                        \n",
      "Commit 55cdd7f9  END              \n",
      "     Ʌ          /               \n",
      "     |         /                \n",
      "Commit c0916c59                   \n",
      "     Ʌ                        \n",
      "     |                        \n",
      "Commit 68916c02                   \n",
      "\n"
     ]
    }
   ],
   "source": [
    "visualize_branches([b1, b2])"
   ]
  },
  {
   "cell_type": "code",
   "execution_count": 2,
   "id": "89242388-8746-4a24-8664-f3c1bc869a54",
   "metadata": {},
   "outputs": [],
   "source": [
    "commits_history = ['35640787','35640787',\n",
    " '26820419',\n",
    " '27460004',\n",
    " '9136493',\n",
    " '20517641',\n",
    " '32062566',\n",
    " '26820419',\n",
    " '27460004',\n",
    " '9136493',\n",
    " '10199111',\n",
    " '32062566',\n",
    " '1564022',\n",
    " '20517641',\n",
    " '21176203',\n",
    " '34225830',\n",
    " '16958566',\n",
    " '1564022',\n",
    " '10199111',\n",
    " '34225830',\n",
    " '26852138',\n",
    " '21176203',\n",
    " '16958566',\n",
    " '26852138',\n",
    " '28474229',\n",
    " '28038496',\n",
    " '16367988',\n",
    " '2677081',\n",
    " '28038496',\n",
    " '28474229',\n",
    " '16367988',\n",
    " '34154470',\n",
    " '2677081',\n",
    " '22070421',\n",
    " '7771913',\n",
    " '34154470',\n",
    " '7771913',\n",
    " '11270920',\n",
    " '22070421',\n",
    " '29758392',\n",
    " '15064002',\n",
    " '11270920',\n",
    " '29758392',\n",
    " '15064002',\n",
    " '9382907',\n",
    " '31964678',\n",
    " '9382907',\n",
    " '9382907',\n",
    " '31964678',\n",
    " '18692170',\n",
    " '18692170',\n",
    " '18692170']"
   ]
  },
  {
   "cell_type": "code",
   "execution_count": 11,
   "id": "160390c8-ebd4-4fc3-b23a-625c1c7fa830",
   "metadata": {},
   "outputs": [
    {
     "data": {
      "text/plain": [
       "52"
      ]
     },
     "execution_count": 11,
     "metadata": {},
     "output_type": "execute_result"
    }
   ],
   "source": [
    "len(commits_history)"
   ]
  },
  {
   "cell_type": "code",
   "execution_count": 20,
   "id": "c74cfd02-f1c0-406e-a45b-67a96190d71f",
   "metadata": {},
   "outputs": [],
   "source": [
    "b = None \n",
    "bs = [] \n",
    "prec = None\n",
    "for idx, log in enumerate(commits_history):\n",
    "    t = Task(log, )\n",
    "    c = Commit(t.id)\n",
    "    if b is None:\n",
    "        b = Branch(\"agent1\", c.id, [c])\n",
    "        bs.append(b)\n",
    "    else:\n",
    "        if idx in preset: \n",
    "            b = b.create_new_branch_from_commit(\"agent-1-update\", prec)\n",
    "            bs.append(b)\n",
    "        b.add_commit(c)\n",
    "    prec = c"
   ]
  },
  {
   "cell_type": "code",
   "execution_count": 21,
   "id": "fbd6e94a-9bd8-4d33-834f-fcd2635d7d4d",
   "metadata": {},
   "outputs": [
    {
     "data": {
      "text/plain": [
       "5"
      ]
     },
     "execution_count": 21,
     "metadata": {},
     "output_type": "execute_result"
    }
   ],
   "source": [
    "len(bs)"
   ]
  },
  {
   "cell_type": "code",
   "execution_count": 23,
   "id": "3722cadf-5687-4cef-bf99-ad68f0a5b145",
   "metadata": {},
   "outputs": [
    {
     "name": "stdout",
     "output_type": "stream",
     "text": [
      "agent1           agent-1-update   agent-1-update   agent-1-update   agent-1-update   \n",
      "===============  ===============  ===============  ===============  ===============  \n",
      "                                  Commit 06856189  \n",
      "                                                                   Ʌ         \n",
      "                                                                   |         \n",
      "                                                                    Commit 227913aa  \n",
      "                                                                   Ʌ         \n",
      "                                                                   |         \n",
      "                                                                    Commit f70ae45c  \n",
      "                                                                   Ʌ         \n",
      "                                                                   |         \n",
      "                                                                    Commit a09fd58a  \n",
      "                                                                   Ʌ         \n",
      "                                                                   |         \n",
      "                                                                    Commit 392b5964  \n",
      "                                                                   Ʌ         \n",
      "                                                                   |         \n",
      "                                                                    Commit e84418fa  \n",
      "                                                                   Ʌ         \n",
      "                                                                   |         \n",
      "                                                                    Commit 1bb164ff  \n",
      "                                                                   Ʌ         \n",
      "                                                                   |         \n",
      "                                                                    Commit c87c179b  \n",
      "                                                                   Ʌ         \n",
      "                                                                   |         \n",
      "                                                                    Commit c5016c47  \n",
      "                                                                   Ʌ         \n",
      "                                                                   |         \n",
      "                                                                    Commit e6509263  \n",
      "                                                                   Ʌ         \n",
      "                                                                   |         \n",
      "                                                                    Commit d548822a  \n",
      "                                                                   Ʌ         \n",
      "                                                                   |         \n",
      "                                                                    Commit 9e0ae4cb  \n",
      "                                                    Ʌ          /               \n",
      "                                                    |         /                \n",
      "                                                   Commit 66480bd9                   \n",
      "                                                    Ʌ                        \n",
      "                                                    |                        \n",
      "                                                   Commit d02bcac4                   \n",
      "                                                    Ʌ                        \n",
      "                                                    |                        \n",
      "                                                   Commit 8f2394b0                   \n",
      "                                                    Ʌ                        \n",
      "                                                    |                        \n",
      "                                                   Commit dd0b79f4                   \n",
      "                                                    Ʌ                        \n",
      "                                                    |                        \n",
      "                                                   Commit ed94cae9                   \n",
      "                                                    Ʌ                        \n",
      "                                                    |                        \n",
      "                                                   Commit ef19c76a                   \n",
      "                                                    Ʌ                        \n",
      "                                                    |                        \n",
      "                                                   Commit 309116db                   \n",
      "                                                    Ʌ                        \n",
      "                                                    |                        \n",
      "                                                   Commit d949ff25                   \n",
      "                                                    Ʌ                        \n",
      "                                                    |                        \n",
      "                                                   Commit b982b582                   \n",
      "                                                    Ʌ                        \n",
      "                                                    |                        \n",
      "                                                   Commit 50951d15                   \n",
      "                                                    Ʌ                        \n",
      "                                                    |                        \n",
      "                                                   Commit 96717ba1                   \n",
      "                                                    Ʌ                        \n",
      "                                                    |                        \n",
      "                                                   Commit 25c01ae7                   \n",
      "                                                    Ʌ                        \n",
      "                                                    |                        \n",
      "                                                   Commit 43b870ec                   \n",
      "                                                    Ʌ                        \n",
      "                                                    |                        \n",
      "                                                   Commit c7b5e6f1                   \n",
      "                                                    Ʌ                        \n",
      "                                                    |                        \n",
      "                                                   Commit 9f033b8f                   \n",
      "                                                    Ʌ                        \n",
      "                                                    |                        \n",
      "                                                   Commit d9352623                   \n",
      "                                                    Ʌ                        \n",
      "                                                    |                        \n",
      "                                                   Commit 513813b3                   \n",
      "                                     Ʌ          /                              \n",
      "                                     |         /                               \n",
      "                                  Commit 6881b3d0                                    \n",
      "                                     Ʌ                                       \n",
      "                                     |                                       \n",
      "                                  Commit 4072d91d                                    \n",
      "                                     Ʌ                                       \n",
      "                                     |                                       \n",
      "                                  Commit d3ec9861                                    \n",
      "                                     Ʌ                                       \n",
      "                                     |                                       \n",
      "                                  Commit 22f88fab                                    \n",
      "                                     Ʌ                                       \n",
      "                                     |                                       \n",
      "                                  Commit 4d2588b5                                    \n",
      "                                     Ʌ                                       \n",
      "                                     |                                       \n",
      "                                  Commit 5f28a22d                                    \n",
      "                                     Ʌ                                       \n",
      "                                     |                                       \n",
      "                                  Commit 6cdb0488                                    \n",
      "                                     Ʌ                                       \n",
      "                                     |                                       \n",
      "                                  Commit d9a39bca                                    \n",
      "                                     Ʌ                                       \n",
      "                                     |                                       \n",
      "                                  Commit 149db06b                                    \n",
      "                                     Ʌ                                       \n",
      "                                     |                                       \n",
      "                                  Commit 11e23c82                                    \n",
      "                                     Ʌ                                       \n",
      "                                     |                                       \n",
      "                 END              Commit c9362ca6                                    \n",
      "                      Ʌ          /                                             \n",
      "                      |         /                                              \n",
      "                 Commit 8d37a9e6                                                     \n",
      "                      Ʌ                                                      \n",
      "                      |                                                      \n",
      "                 Commit e21f4bf7                                                     \n",
      "                      Ʌ                                                      \n",
      "                      |                                                      \n",
      "                 Commit fc161636                                                     \n",
      "                      Ʌ                                                      \n",
      "                      |                                                      \n",
      "                 Commit 68b97cc5                                                     \n",
      "                      Ʌ                                                      \n",
      "                      |                                                      \n",
      "                 Commit b1cbd40a                                                     \n",
      "                      Ʌ                                                      \n",
      "                      |                                                      \n",
      "                 Commit 4463e15b                                                     \n",
      "                      Ʌ                                                      \n",
      "                      |                                                      \n",
      "                 Commit 34e23ce4                                                     \n",
      "     Ʌ          /                                                            \n",
      "     |         /                                                             \n",
      "Commit 964fe5c6                                                                      \n",
      "     Ʌ                                                                     \n",
      "     |                                                                     \n",
      "Commit 637dbf63                                                                      \n",
      "     Ʌ                                                                     \n",
      "     |                                                                     \n",
      "Commit 3f039d3d                                                                      \n",
      "     Ʌ                                                                     \n",
      "     |                                                                     \n",
      "Commit 26c4a898                                                                      \n",
      "     Ʌ                                                                     \n",
      "     |                                                                     \n",
      "Commit 48ab124c                                                                      \n",
      "\n"
     ]
    }
   ],
   "source": [
    "visualize_branches(bs)"
   ]
  },
  {
   "cell_type": "code",
   "execution_count": 26,
   "id": "ab7435c6-1f99-472c-94c9-364eca246f45",
   "metadata": {},
   "outputs": [
    {
     "data": {
      "text/plain": [
       "Branch: agent1\n",
       "=========================\n",
       "Commit 964fe5c6\t(*HEAD)\n",
       "     Ʌ\n",
       "     |\n",
       "Commit 637dbf63\n",
       "     Ʌ\n",
       "     |\n",
       "Commit 3f039d3d\n",
       "     Ʌ\n",
       "     |\n",
       "Commit 26c4a898\n",
       "     Ʌ\n",
       "     |\n",
       "Commit 48ab124c"
      ]
     },
     "execution_count": 26,
     "metadata": {},
     "output_type": "execute_result"
    }
   ],
   "source": [
    "bs[0]"
   ]
  },
  {
   "cell_type": "code",
   "execution_count": 27,
   "id": "97f9ad65-5ac7-4790-88c1-639da5c078b4",
   "metadata": {},
   "outputs": [
    {
     "data": {
      "text/plain": [
       "Branch: agent-1-update\n",
       "=========================\n",
       "Commit 8d37a9e6\t(*HEAD)\n",
       "     Ʌ\n",
       "     |\n",
       "Commit e21f4bf7\n",
       "     Ʌ\n",
       "     |\n",
       "Commit fc161636\n",
       "     Ʌ\n",
       "     |\n",
       "Commit 68b97cc5\n",
       "     Ʌ\n",
       "     |\n",
       "Commit b1cbd40a\n",
       "     Ʌ\n",
       "     |\n",
       "Commit 4463e15b\n",
       "     Ʌ\n",
       "     |\n",
       "Commit 34e23ce4\n",
       "     Ʌ\n",
       "     |\n",
       "Commit 964fe5c6\n",
       "     Ʌ\n",
       "     |\n",
       "Commit 637dbf63\n",
       "     Ʌ\n",
       "     |\n",
       "Commit 3f039d3d\n",
       "     Ʌ\n",
       "     |\n",
       "Commit 26c4a898\n",
       "     Ʌ\n",
       "     |\n",
       "Commit 48ab124c"
      ]
     },
     "execution_count": 27,
     "metadata": {},
     "output_type": "execute_result"
    }
   ],
   "source": [
    "bs[1]"
   ]
  },
  {
   "cell_type": "code",
   "execution_count": null,
   "id": "8afc0f96-567b-42bd-b657-7e89e8274ff0",
   "metadata": {},
   "outputs": [],
   "source": []
  }
 ],
 "metadata": {
  "kernelspec": {
   "display_name": "chatflare",
   "language": "python",
   "name": "chatflare-venv"
  },
  "language_info": {
   "codemirror_mode": {
    "name": "ipython",
    "version": 3
   },
   "file_extension": ".py",
   "mimetype": "text/x-python",
   "name": "python",
   "nbconvert_exporter": "python",
   "pygments_lexer": "ipython3",
   "version": "3.10.10"
  }
 },
 "nbformat": 4,
 "nbformat_minor": 5
}
