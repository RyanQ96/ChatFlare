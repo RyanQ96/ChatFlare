{
 "cells": [
  {
   "cell_type": "code",
   "execution_count": 1,
   "id": "1f2df2d8-b72a-45fd-b568-f91790d4f581",
   "metadata": {},
   "outputs": [],
   "source": [
    "import sys\n",
    "import os\n",
    "__package_root_dir__ = \"../\"\n",
    "sys.path.insert(0, os.path.dirname(__package_root_dir__))\n",
    "os.chdir(\"../\")"
   ]
  },
  {
   "cell_type": "code",
   "execution_count": 2,
   "id": "11a9a95c-e57f-4d61-b539-b67cab62540e",
   "metadata": {},
   "outputs": [
    {
     "name": "stdout",
     "output_type": "stream",
     "text": [
      "testing2\n"
     ]
    }
   ],
   "source": [
    "from chatflare.prompt.base import PromptTemplate"
   ]
  },
  {
   "cell_type": "code",
   "execution_count": 3,
   "id": "f4b3567d-77eb-4482-a789-f603a77526fb",
   "metadata": {},
   "outputs": [],
   "source": [
    "READ_PROMPT_PREFIX = \"\"\"You are an research agent designed to help human perform an literature review tasks from a set of documents.\n",
    "You are give a task to review information of the given research question: {{query}}.\n",
    "You are given a paper to read, and you need to summarize the information relevant to the given topic and also the overall information of the document that you feel important or interesting or worth to dive in. \n",
    "{{paper_already_read}}\n",
    "{{findings_so_far}}\n",
    "The paper you need to read is below and is wrapped between a pair of triple backticks:  \n",
    "```\n",
    "{{paper_to_read}}\n",
    "```\n",
    "Be careful that the paper you are assigned might not relevant to the research question: {{query}}. But if it is relevant, you also are required to generate a overall thought to reflect your understanding of the given topic `{{query}}`so far, based on this paper, papers you have already read and your findings. \n",
    "Be careful about the conflict findings from this paper and the papers you have read (if you have), do not judge which one is more reasonable based on our understanding, just write it to your thought and wait for further exploration!\n",
    "{{inspiration_conversation_history}}\n",
    "\n",
    "{RESPONSE_FORMAT}\n",
    "\"\"\"\n",
    "\n",
    "READ_RESPONSE_FORMAT = \"\"\"\n",
    "When responding use a markdown code snippet with a JSON object formatted in the \\\n",
    "following schema:\n",
    "```json\n",
    "{{  \n",
    "    \"findings_of_the_paper\": str, //the information in the paper that directly related to the given research question `{{query}}`, return `not included` if it does not contain the information that can directly relate to the research question\n",
    "    \"related_to_query\": bool, //whether the paper is directly related to the given research question `{{query}}`, \n",
    "    \"reason_of_exclusion\": str, //if your answer was `false` in \"related_to_query\", you need to provide the reason why you think it is not related to the research question `{{query}}\n",
    "    \"summary_of_the_paper\": str, //summary of the paper given to you, include the information that you feel important and worth further exploration\n",
    "    \"thought\": str, //your overall understanding of question `{{query}}` so far, not just from this paper but also your previous findings. Do not include irrelevant information here. Pay attention to the length of your thought, it should be no longer than 500 words.    \n",
    "}}\n",
    "```\n",
    "Return only the makrdown and Nothing Else!\n",
    "\"\"\""
   ]
  },
  {
   "cell_type": "code",
   "execution_count": 4,
   "id": "28392b57-c924-4d43-b5b0-593564e4a29d",
   "metadata": {},
   "outputs": [],
   "source": [
    "prompt_prefix = READ_PROMPT_PREFIX.format(RESPONSE_FORMAT=READ_RESPONSE_FORMAT)\n",
    "\n",
    "prompt = PromptTemplate(template=prompt_prefix)"
   ]
  },
  {
   "cell_type": "code",
   "execution_count": 5,
   "id": "9a7891f9-20ca-4cc7-8226-0658c2c751ae",
   "metadata": {},
   "outputs": [
    {
     "data": {
      "text/plain": [
       "['query',\n",
       " 'paper_already_read',\n",
       " 'findings_so_far',\n",
       " 'paper_to_read',\n",
       " 'query',\n",
       " 'query',\n",
       " 'inspiration_conversation_history']"
      ]
     },
     "execution_count": 5,
     "metadata": {},
     "output_type": "execute_result"
    }
   ],
   "source": [
    "prompt._get_variables()"
   ]
  },
  {
   "cell_type": "code",
   "execution_count": 7,
   "id": "5a374fae-8ca3-4bbe-a461-ed9f5a48dcc8",
   "metadata": {},
   "outputs": [
    {
     "name": "stdout",
     "output_type": "stream",
     "text": [
      "You are an research agent designed to help human perform an literature review tasks from a set of documents.\n",
      "You are give a task to review information of the given research question: {query}.\n",
      "You are given a paper to read, and you need to summarize the information relevant to the given topic and also the overall information of the document that you feel important or interesting or worth to dive in. \n",
      "{paper_already_read}\n",
      "{findings_so_far}\n",
      "The paper you need to read is below and is wrapped between a pair of triple backticks:  \n",
      "```\n",
      "{paper_to_read}\n",
      "```\n",
      "Be careful that the paper you are assigned might not relevant to the research question: {query}. But if it is relevant, you also are required to generate a overall thought to reflect your understanding of the given topic `{query}`so far, based on this paper, papers you have already read and your findings. \n",
      "Be careful about the conflict findings from this paper and the papers you have read (if you have), do not judge which one is more reasonable based on our understanding, just write it to your thought and wait for further exploration!\n",
      "{inspiration_conversation_history}\n",
      "\n",
      "\n",
      "When responding use a markdown code snippet with a JSON object formatted in the following schema:\n",
      "```json\n",
      "{{  \n",
      "    \"findings_of_the_paper\": str, //the information in the paper that directly related to the given research question `{{query}}`, return `not included` if it does not contain the information that can directly relate to the research question\n",
      "    \"related_to_query\": bool, //whether the paper is directly related to the given research question `{{query}}`, \n",
      "    \"reason_of_exclusion\": str, //if your answer was `false` in \"related_to_query\", you need to provide the reason why you think it is not related to the research question `{{query}}\n",
      "    \"summary_of_the_paper\": str, //summary of the paper given to you, include the information that you feel important and worth further exploration\n",
      "    \"thought\": str, //your overall understanding of question `{{query}}` so far, not just from this paper but also your previous findings. Do not include irrelevant information here. Pay attention to the length of your thought, it should be no longer than 500 words.    \n",
      "}}\n",
      "```\n",
      "Return only the makrdown and Nothing Else!\n",
      "\n",
      "\n"
     ]
    }
   ],
   "source": [
    "print(prompt.template)"
   ]
  },
  {
   "cell_type": "code",
   "execution_count": 8,
   "id": "d33a1de2-f140-4d8e-bd07-46a0f93cfb4a",
   "metadata": {},
   "outputs": [
    {
     "ename": "KeyError",
     "evalue": "'query'",
     "output_type": "error",
     "traceback": [
      "\u001b[0;31m---------------------------------------------------------------------------\u001b[0m",
      "\u001b[0;31mKeyError\u001b[0m                                  Traceback (most recent call last)",
      "Cell \u001b[0;32mIn[8], line 1\u001b[0m\n\u001b[0;32m----> 1\u001b[0m res \u001b[38;5;241m=\u001b[39m \u001b[43mprompt\u001b[49m\u001b[38;5;241;43m.\u001b[39;49m\u001b[43mrender\u001b[49m\u001b[43m(\u001b[49m\u001b[43mpaper_to_read\u001b[49m\u001b[38;5;241;43m=\u001b[39;49m\u001b[38;5;124;43m\"\u001b[39;49m\u001b[38;5;124;43ma new paper about attention\u001b[39;49m\u001b[38;5;124;43m\"\u001b[39;49m\u001b[43m)\u001b[49m\n",
      "File \u001b[0;32m~/Desktop/research/LLM-Libraries/ChatFlare/chatflare/prompt/base.py:18\u001b[0m, in \u001b[0;36mPromptTemplate.render\u001b[0;34m(self, **kwargs)\u001b[0m\n\u001b[1;32m     17\u001b[0m \u001b[38;5;28;01mdef\u001b[39;00m \u001b[38;5;21mrender\u001b[39m(\u001b[38;5;28mself\u001b[39m, \u001b[38;5;241m*\u001b[39m\u001b[38;5;241m*\u001b[39mkwargs):\n\u001b[0;32m---> 18\u001b[0m     \u001b[38;5;28;01mreturn\u001b[39;00m \u001b[38;5;28;43mself\u001b[39;49m\u001b[38;5;241;43m.\u001b[39;49m\u001b[43mtemplate\u001b[49m\u001b[38;5;241;43m.\u001b[39;49m\u001b[43mformat\u001b[49m\u001b[43m(\u001b[49m\u001b[38;5;241;43m*\u001b[39;49m\u001b[38;5;241;43m*\u001b[39;49m\u001b[43mkwargs\u001b[49m\u001b[43m)\u001b[49m\n",
      "\u001b[0;31mKeyError\u001b[0m: 'query'"
     ]
    }
   ],
   "source": [
    "res = prompt.render(paper_to_read=\"a new paper about attention\")"
   ]
  },
  {
   "cell_type": "code",
   "execution_count": null,
   "id": "c2166166-9b84-4588-a091-d299c6816314",
   "metadata": {},
   "outputs": [],
   "source": [
    "READ_PROMPT_PREFIX = \"\"\"You are an research agent designed to help human perform an literature review tasks from a set of documents.\n",
    "You are give a task to review information of the given research question: {{query}}.\n",
    "You are given a paper to read, and you need to summarize the information relevant to the given topic and also the overall information of the document that you feel important or interesting or worth to dive in. \n",
    "{{paper_already_read}}\n",
    "{{findings_so_far}}\n",
    "The paper you need to read is below and is wrapped between a pair of triple backticks:  \n",
    "```\n",
    "{{paper_to_read}}\n",
    "```\n",
    "Be careful that the paper you are assigned might not relevant to the research question: {{query}}. But if it is relevant, you also are required to generate a overall thought to reflect your understanding of the given topic `{{query}}`so far, based on this paper, papers you have already read and your findings. \n",
    "Be careful about the conflict findings from this paper and the papers you have read (if you have), do not judge which one is more reasonable based on our understanding, just write it to your thought and wait for further exploration!\n",
    "{{inspiration_conversation_history}}\n",
    "\n",
    "{RESPONSE_FORMAT}\n",
    "\"\"\"\n",
    "\n",
    "READ_RESPONSE_FORMAT = \"\"\"\n",
    "When responding use a markdown code snippet with a JSON object formatted in the \\\n",
    "following schema:\n",
    "```json\n",
    "{{  \n",
    "    \"findings_of_the_paper\": str, //the information in the paper that directly related to the given research question `{{query}}`, return `not included` if it does not contain the information that can directly relate to the research question\n",
    "    \"related_to_query\": bool, //whether the paper is directly related to the given research question `{{query}}`, \n",
    "    \"reason_of_exclusion\": str, //if your answer was `false` in \"related_to_query\", you need to provide the reason why you think it is not related to the research question `{{query}}\n",
    "    \"summary_of_the_paper\": str, //summary of the paper given to you, include the information that you feel important and worth further exploration\n",
    "    \"thought\": str, //your overall understanding of question `{{query}}` so far, not just from this paper but also your previous findings. Do not include irrelevant information here. Pay attention to the length of your thought, it should be no longer than 500 words.    \n",
    "}}\n",
    "```\n",
    "Return only the makrdown and Nothing Else!\n",
    "\"\"\"\n",
    "\n",
    "prompt_prefix = READ_PROMPT_PREFIX.format(RESPONSE_FORMAT=READ_RESPONSE_FORMAT)\n",
    "\n",
    "prompt = PromptTemplate(template=prompt_prefix)\n",
    "\n",
    "res = prompt.render(paper_to_read=\"a new paper about attention\")"
   ]
  }
 ],
 "metadata": {
  "kernelspec": {
   "display_name": "chatflare",
   "language": "python",
   "name": "chatflare-venv"
  },
  "language_info": {
   "codemirror_mode": {
    "name": "ipython",
    "version": 3
   },
   "file_extension": ".py",
   "mimetype": "text/x-python",
   "name": "python",
   "nbconvert_exporter": "python",
   "pygments_lexer": "ipython3",
   "version": "3.10.10"
  }
 },
 "nbformat": 4,
 "nbformat_minor": 5
}
