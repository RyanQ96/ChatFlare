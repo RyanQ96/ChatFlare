{
 "cells": [
  {
   "cell_type": "code",
   "execution_count": 1,
   "id": "8a10bf2d-8149-4486-a631-59d8f8dbd110",
   "metadata": {},
   "outputs": [],
   "source": [
    "%run setup.py"
   ]
  },
  {
   "cell_type": "code",
   "execution_count": 2,
   "id": "bc69accc-e5a4-43b6-8939-08231bd088f7",
   "metadata": {},
   "outputs": [],
   "source": [
    "from chatflare.graph.base import * "
   ]
  },
  {
   "cell_type": "code",
   "execution_count": 3,
   "id": "170d9cc8-8cf1-41f3-bdf2-49488f94ea8d",
   "metadata": {},
   "outputs": [],
   "source": [
    "## create a BaseGraph Obj and initialize a thread\n",
    "agent_graph = BaseGraph()\n",
    "agent_graph.initialize_thread()"
   ]
  },
  {
   "cell_type": "code",
   "execution_count": 4,
   "id": "640870f1-e147-4ec0-89a6-33323e6b9b34",
   "metadata": {},
   "outputs": [],
   "source": [
    "thread_id = list(agent_graph.traverse_thread.keys())[0]"
   ]
  },
  {
   "cell_type": "code",
   "execution_count": 5,
   "id": "190051bc-9f46-43b1-ac25-328c0ce5d419",
   "metadata": {},
   "outputs": [],
   "source": [
    "thread = agent_graph.traverse_thread[thread_id]"
   ]
  },
  {
   "cell_type": "code",
   "execution_count": 6,
   "id": "55432b37-ffc6-4425-96d0-c07c077af1e1",
   "metadata": {},
   "outputs": [
    {
     "data": {
      "text/plain": [
       "Branch: default\n",
       "========================="
      ]
     },
     "execution_count": 6,
     "metadata": {},
     "output_type": "execute_result"
    }
   ],
   "source": [
    "thread.branch"
   ]
  },
  {
   "cell_type": "code",
   "execution_count": 7,
   "id": "e39e44cb-607f-4520-be9e-ff339b09139b",
   "metadata": {},
   "outputs": [],
   "source": [
    "class NodeAction1: \n",
    "    def __init__(self):\n",
    "        self.node_name = \"Retrieve\"\n",
    "\n",
    "    def __call__(self, graphstate): \n",
    "        print(graphstate.latest_output)\n",
    "        graphstate.latest_output = \"After action_1: \" + (getattr(graphstate, \"latest_output\", \"\") or \"\")\n",
    "        return graphstate.latest_output \n",
    "\n",
    "class NodeAction2: \n",
    "    def __init__(self):\n",
    "        self.node_name = \"Read\"\n",
    "\n",
    "    def __call__(self, graphstate): \n",
    "        graphstate.latest_output = \"After action_2: \" + getattr(graphstate, \"latest_output\", \"\") \n",
    "        return graphstate.latest_output \n",
    "\n",
    "class NodeAction3: \n",
    "    def __init__(self):\n",
    "        self.node_name = \"Synthesize\"\n",
    "\n",
    "    def __call__(self, graphstate): \n",
    "        graphstate.latest_output = \"After action_3: \" + getattr(graphstate, \"latest_output\", \"\") \n",
    "        return graphstate.latest_output \n",
    "\n",
    "class NodeAction4: \n",
    "    def __init__(self):\n",
    "        self.node_name = \"Reflect\"\n",
    "\n",
    "    def __call__(self, graphstate): \n",
    "        graphstate.latest_output = \"After action_4: \" + getattr(graphstate, \"latest_output\", \"\") \n",
    "        return graphstate.latest_output \n",
    "\n",
    "class Edge1_2:\n",
    "    def __call__(self, graphstate):\n",
    "        import random\n",
    "        res = random.random() < 0.5\n",
    "        print(f\"go_through_edge_1->2: {res}\")\n",
    "        return res\n",
    "\n",
    "class Edge1_3:\n",
    "    def __call__(self, graphstate):\n",
    "        import random\n",
    "        res = random.random() < 0.5\n",
    "        print(f\"go_through_edge_1->3: {res}\")\n",
    "        return res\n",
    "\n",
    "class Edge2_3:\n",
    "    def __call__(self, graphstate):\n",
    "        import random\n",
    "        res = random.random() < 0.5\n",
    "        print(f\"go_through_edge_2->3: {res}\")\n",
    "        return res\n",
    "\n",
    "class Edge_reflect:\n",
    "    def __call__(self, graphstate):\n",
    "        import random\n",
    "        res = random.random() < 0.5\n",
    "        print(f\"go_through_reflection: {res}\")\n",
    "        return res"
   ]
  },
  {
   "cell_type": "code",
   "execution_count": 8,
   "id": "52b64f9f-1c71-4a0b-b7cb-265dc049c53b",
   "metadata": {},
   "outputs": [],
   "source": [
    "node1 = NodeAction1()\n",
    "node2 = NodeAction2()\n",
    "node3 = NodeAction3()\n",
    "node4 = NodeAction4()\n",
    "edge_1_2 = Edge1_2() \n",
    "edge_1_3 = Edge1_3()\n",
    "edge_2_3 = Edge2_3() \n",
    "edge_reflect = Edge_reflect()"
   ]
  },
  {
   "cell_type": "code",
   "execution_count": 15,
   "id": "4cad75f8-033e-4787-9e5c-6847f84aaa35",
   "metadata": {},
   "outputs": [],
   "source": [
    "agent_graph.add_node(node1)\n",
    "agent_graph.add_node(node2)\n",
    "agent_graph.add_node(node3)\n",
    "agent_graph.add_node(node4)\n",
    "agent_graph.add_edge(node1, node2, runnable=edge_1_2)\n",
    "agent_graph.add_edge(node1, node3, runnable=edge_1_3)\n",
    "agent_graph.add_edge(node2, node3, runnable=edge_2_3)\n",
    "# agent_graph.add_edge(node1, node4, runnable=edge_reflect)\n",
    "# agent_graph.add_edge(node2, node4, runnable=edge_reflect)\n",
    "# agent_graph.add_edge(node3, node4, runnable=edge_reflect)\n",
    "# agent_graph.add_edge(node4, node1, runnable=edge_reflect)\n",
    "# agent_graph.add_edge(node4, node2, runnable=edge_reflect)\n",
    "# agent_graph.add_edge(node4, node3, runnable=edge_reflect)"
   ]
  },
  {
   "cell_type": "code",
   "execution_count": 16,
   "id": "370410d1-5d46-4a05-a7da-373328306567",
   "metadata": {},
   "outputs": [],
   "source": [
    "agent_graph.set_start_node(node1)\n",
    "agent_graph.set_end_node(node3)"
   ]
  },
  {
   "cell_type": "code",
   "execution_count": 17,
   "id": "886d0512-4594-4865-b9d7-0d4eac035081",
   "metadata": {},
   "outputs": [],
   "source": [
    "# for event in agent_graph.traverse():\n",
    "#     print(event)"
   ]
  },
  {
   "cell_type": "code",
   "execution_count": 18,
   "id": "86123541-67cf-4f02-8c78-9e9cd972f3f8",
   "metadata": {},
   "outputs": [
    {
     "data": {
      "text/html": [
       "<svg id=\"mermaid-svg\" width=\"100%\" xmlns=\"http://www.w3.org/2000/svg\" style=\"max-width: 469.3125px;\" viewBox=\"-8 -8 469.3125 638\" role=\"graphics-document document\" aria-roledescription=\"flowchart-v2\" xmlns:xlink=\"http://www.w3.org/1999/xlink\"><style xmlns=\"http://www.w3.org/1999/xhtml\">@import url(\"https://cdnjs.cloudflare.com/ajax/libs/font-awesome/6.5.2/css/all.min.css\");</style><style>#mermaid-svg{font-family:\"trebuchet ms\",verdana,arial,sans-serif;font-size:16px;fill:#333;}#mermaid-svg .error-icon{fill:#552222;}#mermaid-svg .error-text{fill:#552222;stroke:#552222;}#mermaid-svg .edge-thickness-normal{stroke-width:2px;}#mermaid-svg .edge-thickness-thick{stroke-width:3.5px;}#mermaid-svg .edge-pattern-solid{stroke-dasharray:0;}#mermaid-svg .edge-pattern-dashed{stroke-dasharray:3;}#mermaid-svg .edge-pattern-dotted{stroke-dasharray:2;}#mermaid-svg .marker{fill:#333333;stroke:#333333;}#mermaid-svg .marker.cross{stroke:#333333;}#mermaid-svg svg{font-family:\"trebuchet ms\",verdana,arial,sans-serif;font-size:16px;}#mermaid-svg .label{font-family:\"trebuchet ms\",verdana,arial,sans-serif;color:#333;}#mermaid-svg .cluster-label text{fill:#333;}#mermaid-svg .cluster-label span,#mermaid-svg p{color:#333;}#mermaid-svg .label text,#mermaid-svg span,#mermaid-svg p{fill:#333;color:#333;}#mermaid-svg .node rect,#mermaid-svg .node circle,#mermaid-svg .node ellipse,#mermaid-svg .node polygon,#mermaid-svg .node path{fill:#ECECFF;stroke:#9370DB;stroke-width:1px;}#mermaid-svg .flowchart-label text{text-anchor:middle;}#mermaid-svg .node .katex path{fill:#000;stroke:#000;stroke-width:1px;}#mermaid-svg .node .label{text-align:center;}#mermaid-svg .node.clickable{cursor:pointer;}#mermaid-svg .arrowheadPath{fill:#333333;}#mermaid-svg .edgePath .path{stroke:#333333;stroke-width:2.0px;}#mermaid-svg .flowchart-link{stroke:#333333;fill:none;}#mermaid-svg .edgeLabel{background-color:#e8e8e8;text-align:center;}#mermaid-svg .edgeLabel rect{opacity:0.5;background-color:#e8e8e8;fill:#e8e8e8;}#mermaid-svg .labelBkg{background-color:rgba(232, 232, 232, 0.5);}#mermaid-svg .cluster rect{fill:#ffffde;stroke:#aaaa33;stroke-width:1px;}#mermaid-svg .cluster text{fill:#333;}#mermaid-svg .cluster span,#mermaid-svg p{color:#333;}#mermaid-svg div.mermaidTooltip{position:absolute;text-align:center;max-width:200px;padding:2px;font-family:\"trebuchet ms\",verdana,arial,sans-serif;font-size:12px;background:hsl(80, 100%, 96.2745098039%);border:1px solid #aaaa33;border-radius:2px;pointer-events:none;z-index:100;}#mermaid-svg .flowchartTitleText{text-anchor:middle;font-size:18px;fill:#333;}#mermaid-svg :root{--mermaid-font-family:\"trebuchet ms\",verdana,arial,sans-serif;}</style><g><marker id=\"mermaid-svg_flowchart-pointEnd\" class=\"marker flowchart\" viewBox=\"0 0 10 10\" refX=\"6\" refY=\"5\" markerUnits=\"userSpaceOnUse\" markerWidth=\"12\" markerHeight=\"12\" orient=\"auto\"><path d=\"M 0 0 L 10 5 L 0 10 z\" class=\"arrowMarkerPath\" style=\"stroke-width: 1; stroke-dasharray: 1, 0;\"/></marker><marker id=\"mermaid-svg_flowchart-pointStart\" class=\"marker flowchart\" viewBox=\"0 0 10 10\" refX=\"4.5\" refY=\"5\" markerUnits=\"userSpaceOnUse\" markerWidth=\"12\" markerHeight=\"12\" orient=\"auto\"><path d=\"M 0 5 L 10 10 L 10 0 z\" class=\"arrowMarkerPath\" style=\"stroke-width: 1; stroke-dasharray: 1, 0;\"/></marker><marker id=\"mermaid-svg_flowchart-circleEnd\" class=\"marker flowchart\" viewBox=\"0 0 10 10\" refX=\"11\" refY=\"5\" markerUnits=\"userSpaceOnUse\" markerWidth=\"11\" markerHeight=\"11\" orient=\"auto\"><circle cx=\"5\" cy=\"5\" r=\"5\" class=\"arrowMarkerPath\" style=\"stroke-width: 1; stroke-dasharray: 1, 0;\"/></marker><marker id=\"mermaid-svg_flowchart-circleStart\" class=\"marker flowchart\" viewBox=\"0 0 10 10\" refX=\"-1\" refY=\"5\" markerUnits=\"userSpaceOnUse\" markerWidth=\"11\" markerHeight=\"11\" orient=\"auto\"><circle cx=\"5\" cy=\"5\" r=\"5\" class=\"arrowMarkerPath\" style=\"stroke-width: 1; stroke-dasharray: 1, 0;\"/></marker><marker id=\"mermaid-svg_flowchart-crossEnd\" class=\"marker cross flowchart\" viewBox=\"0 0 11 11\" refX=\"12\" refY=\"5.2\" markerUnits=\"userSpaceOnUse\" markerWidth=\"11\" markerHeight=\"11\" orient=\"auto\"><path d=\"M 1,1 l 9,9 M 10,1 l -9,9\" class=\"arrowMarkerPath\" style=\"stroke-width: 2; stroke-dasharray: 1, 0;\"/></marker><marker id=\"mermaid-svg_flowchart-crossStart\" class=\"marker cross flowchart\" viewBox=\"0 0 11 11\" refX=\"-1\" refY=\"5.2\" markerUnits=\"userSpaceOnUse\" markerWidth=\"11\" markerHeight=\"11\" orient=\"auto\"><path d=\"M 1,1 l 9,9 M 10,1 l -9,9\" class=\"arrowMarkerPath\" style=\"stroke-width: 2; stroke-dasharray: 1, 0;\"/></marker><g class=\"root\"><g class=\"clusters\"/><g class=\"edgePaths\"><path d=\"M383.026,34L374.967,38.167C366.908,42.333,350.79,50.667,342.731,58.117C334.672,65.567,334.672,72.133,334.672,75.417L334.672,78.7\" id=\"L-Retrieve-RouteNode-b136-0\" class=\" edge-thickness-normal edge-pattern-solid flowchart-link LS-Retrieve LE-RouteNode-b136\" style=\"fill:none;\" marker-end=\"url(#mermaid-svg_flowchart-pointEnd)\"/><path d=\"M278.486,118L264.715,122.167C250.944,126.333,223.402,134.667,209.63,142.117C195.859,149.567,195.859,156.133,195.859,159.417L195.859,162.7\" id=\"L-RouteNode-b136-Read-0\" class=\" edge-thickness-normal edge-pattern-solid flowchart-link LS-RouteNode-b136 LE-Read\" style=\"fill:none;\" marker-end=\"url(#mermaid-svg_flowchart-pointEnd)\"/><path d=\"M347.065,118L350.102,122.167C353.139,126.333,359.214,134.667,362.252,145.833C365.289,157,365.289,171,365.289,185C365.289,199,365.289,213,365.289,227C365.289,241,365.289,255,365.289,269C365.289,283,365.289,297,350.376,308.48C335.463,319.96,305.637,328.921,290.723,333.401L275.81,337.881\" id=\"L-RouteNode-b136-Synthesize-0\" class=\" edge-thickness-normal edge-pattern-solid flowchart-link LS-RouteNode-b136 LE-Synthesize\" style=\"fill:none;\" marker-end=\"url(#mermaid-svg_flowchart-pointEnd)\"/><path d=\"M355.16,118L360.181,122.167C365.203,126.333,375.246,134.667,380.268,145.833C385.289,157,385.289,171,385.289,185C385.289,199,385.289,213,385.289,227C385.289,241,385.289,255,385.289,269C385.289,283,385.289,297,385.289,311C385.289,325,385.289,339,385.289,353C385.289,367,385.289,381,385.289,395C385.289,409,385.289,423,385.289,437C385.289,451,385.289,465,348.445,477.968C311.601,490.935,237.912,502.871,201.068,508.839L164.224,514.806\" id=\"L-RouteNode-b136-Reflect-0\" class=\" edge-thickness-normal edge-pattern-solid flowchart-link LS-RouteNode-b136 LE-Reflect\" style=\"fill:none;\" marker-end=\"url(#mermaid-svg_flowchart-pointEnd)\"/><path d=\"M171,193.055L153.539,198.712C136.078,204.37,101.156,215.685,83.695,224.626C66.234,233.567,66.234,240.133,66.234,243.417L66.234,246.7\" id=\"L-Read-RouteNode-223b-0\" class=\" edge-thickness-normal edge-pattern-solid flowchart-link LS-Read LE-RouteNode-223b\" style=\"fill:none;\" marker-end=\"url(#mermaid-svg_flowchart-pointEnd)\"/><path d=\"M205.347,370L200.412,374.167C195.476,378.333,185.605,386.667,180.67,394.117C175.734,401.567,175.734,408.133,175.734,411.417L175.734,414.7\" id=\"L-Synthesize-RouteNode-cf71-0\" class=\" edge-thickness-normal edge-pattern-solid flowchart-link LS-Synthesize LE-RouteNode-cf71\" style=\"fill:none;\" marker-end=\"url(#mermaid-svg_flowchart-pointEnd)\"/><path d=\"M125.984,538L125.984,542.167C125.984,546.333,125.984,554.667,144.188,563.096C162.392,571.525,198.799,580.049,217.003,584.312L235.207,588.574\" id=\"L-Reflect-RouteNode-9fd7-0\" class=\" edge-thickness-normal edge-pattern-solid flowchart-link LS-Reflect LE-RouteNode-9fd7\" style=\"fill:none;\" marker-end=\"url(#mermaid-svg_flowchart-pointEnd)\"/><path d=\"M62.187,286L61.195,290.167C60.203,294.333,58.219,302.667,77.036,311.749C95.853,320.832,135.472,330.663,155.281,335.579L175.09,340.495\" id=\"L-RouteNode-223b-Synthesize-0\" class=\" edge-thickness-normal edge-pattern-solid flowchart-link LS-RouteNode-223b LE-Synthesize\" style=\"fill:none;\" marker-end=\"url(#mermaid-svg_flowchart-pointEnd)\"/><path d=\"M70.282,286L71.274,290.167C72.266,294.333,74.25,302.667,75.242,313.833C76.234,325,76.234,339,76.234,353C76.234,367,76.234,381,76.234,395C76.234,409,76.234,423,76.234,437C76.234,451,76.234,465,80.495,475.597C84.755,486.194,93.277,493.387,97.537,496.984L101.798,500.581\" id=\"L-RouteNode-223b-Reflect-0\" class=\" edge-thickness-normal edge-pattern-solid flowchart-link LS-RouteNode-223b LE-Reflect\" style=\"fill:none;\" marker-end=\"url(#mermaid-svg_flowchart-pointEnd)\"/><path d=\"M175.734,454L175.734,458.167C175.734,462.333,175.734,470.667,171.474,478.43C167.213,486.194,158.692,493.387,154.432,496.984L150.171,500.581\" id=\"L-RouteNode-cf71-Reflect-0\" class=\" edge-thickness-normal edge-pattern-solid flowchart-link LS-RouteNode-cf71 LE-Reflect\" style=\"fill:none;\" marker-end=\"url(#mermaid-svg_flowchart-pointEnd)\"/><path d=\"M358.2,588L371.151,583.833C384.102,579.667,410.004,571.333,422.955,560.167C435.906,549,435.906,535,435.906,521C435.906,507,435.906,493,435.906,479C435.906,465,435.906,451,435.906,437C435.906,423,435.906,409,435.906,395C435.906,381,435.906,367,435.906,353C435.906,339,435.906,325,435.906,311C435.906,297,435.906,283,435.906,269C435.906,255,435.906,241,435.906,227C435.906,213,435.906,199,435.906,185C435.906,171,435.906,157,435.906,143C435.906,129,435.906,115,435.906,101C435.906,87,435.906,73,434.302,62.631C432.698,52.262,429.489,45.523,427.884,42.154L426.28,38.785\" id=\"L-RouteNode-9fd7-Retrieve-0\" class=\" edge-thickness-normal edge-pattern-solid flowchart-link LS-RouteNode-9fd7 LE-Retrieve\" style=\"fill:none;\" marker-end=\"url(#mermaid-svg_flowchart-pointEnd)\"/><path d=\"M313.455,588L315.439,583.833C317.423,579.667,321.391,571.333,323.375,560.167C325.359,549,325.359,535,325.359,521C325.359,507,325.359,493,325.359,479C325.359,465,325.359,451,325.359,437C325.359,423,325.359,409,325.359,395C325.359,381,325.359,367,325.359,353C325.359,339,325.359,325,325.359,311C325.359,297,325.359,283,325.359,269C325.359,255,325.359,241,308.76,228.616C292.16,216.233,258.96,205.465,242.36,200.081L225.76,194.698\" id=\"L-RouteNode-9fd7-Read-0\" class=\" edge-thickness-normal edge-pattern-solid flowchart-link LS-RouteNode-9fd7 LE-Read\" style=\"fill:none;\" marker-end=\"url(#mermaid-svg_flowchart-pointEnd)\"/><path d=\"M293.166,588L290.177,583.833C287.189,579.667,281.212,571.333,278.223,560.167C275.234,549,275.234,535,275.234,521C275.234,507,275.234,493,275.234,479C275.234,465,275.234,451,275.234,437C275.234,423,275.234,409,270.974,398.403C266.713,387.806,258.192,380.613,253.932,377.016L249.671,373.419\" id=\"L-RouteNode-9fd7-Synthesize-0\" class=\" edge-thickness-normal edge-pattern-solid flowchart-link LS-RouteNode-9fd7 LE-Synthesize\" style=\"fill:none;\" marker-end=\"url(#mermaid-svg_flowchart-pointEnd)\"/></g><g class=\"edgeLabels\"><g class=\"edgeLabel\"><g class=\"label\" transform=\"translate(0, 0)\"><foreignObject width=\"0\" height=\"0\"><div xmlns=\"http://www.w3.org/1999/xhtml\" style=\"display: inline-block; white-space: nowrap;\"><span class=\"edgeLabel\"></span></div></foreignObject></g></g><g class=\"edgeLabel\"><g class=\"label\" transform=\"translate(0, 0)\"><foreignObject width=\"0\" height=\"0\"><div xmlns=\"http://www.w3.org/1999/xhtml\" style=\"display: inline-block; white-space: nowrap;\"><span class=\"edgeLabel\"></span></div></foreignObject></g></g><g class=\"edgeLabel\"><g class=\"label\" transform=\"translate(0, 0)\"><foreignObject width=\"0\" height=\"0\"><div xmlns=\"http://www.w3.org/1999/xhtml\" style=\"display: inline-block; white-space: nowrap;\"><span class=\"edgeLabel\"></span></div></foreignObject></g></g><g class=\"edgeLabel\"><g class=\"label\" transform=\"translate(0, 0)\"><foreignObject width=\"0\" height=\"0\"><div xmlns=\"http://www.w3.org/1999/xhtml\" style=\"display: inline-block; white-space: nowrap;\"><span class=\"edgeLabel\"></span></div></foreignObject></g></g><g class=\"edgeLabel\"><g class=\"label\" transform=\"translate(0, 0)\"><foreignObject width=\"0\" height=\"0\"><div xmlns=\"http://www.w3.org/1999/xhtml\" style=\"display: inline-block; white-space: nowrap;\"><span class=\"edgeLabel\"></span></div></foreignObject></g></g><g class=\"edgeLabel\"><g class=\"label\" transform=\"translate(0, 0)\"><foreignObject width=\"0\" height=\"0\"><div xmlns=\"http://www.w3.org/1999/xhtml\" style=\"display: inline-block; white-space: nowrap;\"><span class=\"edgeLabel\"></span></div></foreignObject></g></g><g class=\"edgeLabel\"><g class=\"label\" transform=\"translate(0, 0)\"><foreignObject width=\"0\" height=\"0\"><div xmlns=\"http://www.w3.org/1999/xhtml\" style=\"display: inline-block; white-space: nowrap;\"><span class=\"edgeLabel\"></span></div></foreignObject></g></g><g class=\"edgeLabel\"><g class=\"label\" transform=\"translate(0, 0)\"><foreignObject width=\"0\" height=\"0\"><div xmlns=\"http://www.w3.org/1999/xhtml\" style=\"display: inline-block; white-space: nowrap;\"><span class=\"edgeLabel\"></span></div></foreignObject></g></g><g class=\"edgeLabel\"><g class=\"label\" transform=\"translate(0, 0)\"><foreignObject width=\"0\" height=\"0\"><div xmlns=\"http://www.w3.org/1999/xhtml\" style=\"display: inline-block; white-space: nowrap;\"><span class=\"edgeLabel\"></span></div></foreignObject></g></g><g class=\"edgeLabel\"><g class=\"label\" transform=\"translate(0, 0)\"><foreignObject width=\"0\" height=\"0\"><div xmlns=\"http://www.w3.org/1999/xhtml\" style=\"display: inline-block; white-space: nowrap;\"><span class=\"edgeLabel\"></span></div></foreignObject></g></g><g class=\"edgeLabel\"><g class=\"label\" transform=\"translate(0, 0)\"><foreignObject width=\"0\" height=\"0\"><div xmlns=\"http://www.w3.org/1999/xhtml\" style=\"display: inline-block; white-space: nowrap;\"><span class=\"edgeLabel\"></span></div></foreignObject></g></g><g class=\"edgeLabel\"><g class=\"label\" transform=\"translate(0, 0)\"><foreignObject width=\"0\" height=\"0\"><div xmlns=\"http://www.w3.org/1999/xhtml\" style=\"display: inline-block; white-space: nowrap;\"><span class=\"edgeLabel\"></span></div></foreignObject></g></g><g class=\"edgeLabel\"><g class=\"label\" transform=\"translate(0, 0)\"><foreignObject width=\"0\" height=\"0\"><div xmlns=\"http://www.w3.org/1999/xhtml\" style=\"display: inline-block; white-space: nowrap;\"><span class=\"edgeLabel\"></span></div></foreignObject></g></g></g><g class=\"nodes\"><g class=\"node default default flowchart-label\" id=\"flowchart-Retrieve-0\" data-node=\"true\" data-id=\"Retrieve\" transform=\"translate(415.90625, 17)\"><rect class=\"basic label-container\" style=\"\" rx=\"0\" ry=\"0\" x=\"-37.40625\" y=\"-17\" width=\"74.8125\" height=\"34\"/><g class=\"label\" style=\"\" transform=\"translate(-29.90625, -9.5)\"><rect/><foreignObject width=\"59.8125\" height=\"19\"><div xmlns=\"http://www.w3.org/1999/xhtml\" style=\"display: inline-block; white-space: nowrap;\"><span class=\"nodeLabel\">Retrieve</span></div></foreignObject></g></g><g class=\"node default default flowchart-label\" id=\"flowchart-RouteNode-b136-1\" data-node=\"true\" data-id=\"RouteNode-b136\" transform=\"translate(334.671875, 101)\"><rect class=\"basic label-container\" style=\"\" rx=\"0\" ry=\"0\" x=\"-66.234375\" y=\"-17\" width=\"132.46875\" height=\"34\"/><g class=\"label\" style=\"\" transform=\"translate(-58.734375, -9.5)\"><rect/><foreignObject width=\"117.46875\" height=\"19\"><div xmlns=\"http://www.w3.org/1999/xhtml\" style=\"display: inline-block; white-space: nowrap;\"><span class=\"nodeLabel\">RouteNode-b136</span></div></foreignObject></g></g><g class=\"node default default flowchart-label\" id=\"flowchart-Read-3\" data-node=\"true\" data-id=\"Read\" transform=\"translate(195.859375, 185)\"><rect class=\"basic label-container\" style=\"\" rx=\"0\" ry=\"0\" x=\"-24.859375\" y=\"-17\" width=\"49.71875\" height=\"34\"/><g class=\"label\" style=\"\" transform=\"translate(-17.359375, -9.5)\"><rect/><foreignObject width=\"34.71875\" height=\"19\"><div xmlns=\"http://www.w3.org/1999/xhtml\" style=\"display: inline-block; white-space: nowrap;\"><span class=\"nodeLabel\">Read</span></div></foreignObject></g></g><g class=\"node default default flowchart-label\" id=\"flowchart-Synthesize-5\" data-node=\"true\" data-id=\"Synthesize\" transform=\"translate(225.484375, 353)\"><rect class=\"basic label-container\" style=\"\" rx=\"0\" ry=\"0\" x=\"-45.25\" y=\"-17\" width=\"90.5\" height=\"34\"/><g class=\"label\" style=\"\" transform=\"translate(-37.75, -9.5)\"><rect/><foreignObject width=\"75.5\" height=\"19\"><div xmlns=\"http://www.w3.org/1999/xhtml\" style=\"display: inline-block; white-space: nowrap;\"><span class=\"nodeLabel\">Synthesize</span></div></foreignObject></g></g><g class=\"node default default flowchart-label\" id=\"flowchart-Reflect-7\" data-node=\"true\" data-id=\"Reflect\" transform=\"translate(125.984375, 521)\"><rect class=\"basic label-container\" style=\"\" rx=\"0\" ry=\"0\" x=\"-33.0078125\" y=\"-17\" width=\"66.015625\" height=\"34\"/><g class=\"label\" style=\"\" transform=\"translate(-25.5078125, -9.5)\"><rect/><foreignObject width=\"51.015625\" height=\"19\"><div xmlns=\"http://www.w3.org/1999/xhtml\" style=\"display: inline-block; white-space: nowrap;\"><span class=\"nodeLabel\">Reflect</span></div></foreignObject></g></g><g class=\"node default default flowchart-label\" id=\"flowchart-RouteNode-223b-9\" data-node=\"true\" data-id=\"RouteNode-223b\" transform=\"translate(66.234375, 269)\"><rect class=\"basic label-container\" style=\"\" rx=\"0\" ry=\"0\" x=\"-66.234375\" y=\"-17\" width=\"132.46875\" height=\"34\"/><g class=\"label\" style=\"\" transform=\"translate(-58.734375, -9.5)\"><rect/><foreignObject width=\"117.46875\" height=\"19\"><div xmlns=\"http://www.w3.org/1999/xhtml\" style=\"display: inline-block; white-space: nowrap;\"><span class=\"nodeLabel\">RouteNode-223b</span></div></foreignObject></g></g><g class=\"node default default flowchart-label\" id=\"flowchart-RouteNode-cf71-11\" data-node=\"true\" data-id=\"RouteNode-cf71\" transform=\"translate(175.734375, 437)\"><rect class=\"basic label-container\" style=\"\" rx=\"0\" ry=\"0\" x=\"-64.5\" y=\"-17\" width=\"129\" height=\"34\"/><g class=\"label\" style=\"\" transform=\"translate(-57, -9.5)\"><rect/><foreignObject width=\"114\" height=\"19\"><div xmlns=\"http://www.w3.org/1999/xhtml\" style=\"display: inline-block; white-space: nowrap;\"><span class=\"nodeLabel\">RouteNode-cf71</span></div></foreignObject></g></g><g class=\"node default default flowchart-label\" id=\"flowchart-RouteNode-9fd7-13\" data-node=\"true\" data-id=\"RouteNode-9fd7\" transform=\"translate(305.359375, 605)\"><rect class=\"basic label-container\" style=\"\" rx=\"0\" ry=\"0\" x=\"-64.9921875\" y=\"-17\" width=\"129.984375\" height=\"34\"/><g class=\"label\" style=\"\" transform=\"translate(-57.4921875, -9.5)\"><rect/><foreignObject width=\"114.984375\" height=\"19\"><div xmlns=\"http://www.w3.org/1999/xhtml\" style=\"display: inline-block; white-space: nowrap;\"><span class=\"nodeLabel\">RouteNode-9fd7</span></div></foreignObject></g></g></g></g></g></svg>"
      ],
      "text/plain": [
       "<mermaid._main.Mermaid at 0x1046323e0>"
      ]
     },
     "execution_count": 18,
     "metadata": {},
     "output_type": "execute_result"
    }
   ],
   "source": [
    "agent_graph.visualize()"
   ]
  },
  {
   "cell_type": "code",
   "execution_count": null,
   "id": "32528eb2-34f3-4761-adba-ca5c54ae16ae",
   "metadata": {},
   "outputs": [],
   "source": []
  }
 ],
 "metadata": {
  "kernelspec": {
   "display_name": "chatflare",
   "language": "python",
   "name": "chatflare-venv"
  },
  "language_info": {
   "codemirror_mode": {
    "name": "ipython",
    "version": 3
   },
   "file_extension": ".py",
   "mimetype": "text/x-python",
   "name": "python",
   "nbconvert_exporter": "python",
   "pygments_lexer": "ipython3",
   "version": "3.10.10"
  }
 },
 "nbformat": 4,
 "nbformat_minor": 5
}
