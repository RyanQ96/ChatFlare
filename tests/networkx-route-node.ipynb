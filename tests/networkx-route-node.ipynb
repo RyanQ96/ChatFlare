{
 "cells": [
  {
   "cell_type": "code",
   "execution_count": 61,
   "id": "599ec375-96b3-49ac-b2c2-8a6fee8ede52",
   "metadata": {},
   "outputs": [],
   "source": [
    "import networkx as nx"
   ]
  },
  {
   "cell_type": "code",
   "execution_count": 62,
   "id": "91460278-98b0-4126-bf4c-757d0b84f064",
   "metadata": {},
   "outputs": [],
   "source": [
    "class RouteNode: \n",
    "    def __init__(self, source_node=None, target_nodes = []):\n",
    "        self.source_node = source_node\n",
    "        self.target_nodes = target_nodes\n",
    "\n",
    "    def _add_target_node(self, target_node): \n",
    "        self.target_nodes.append(target_node)\n",
    "    \n",
    "    def runnable(self): \n",
    "        print(\"runnable\")"
   ]
  },
  {
   "cell_type": "code",
   "execution_count": 63,
   "id": "1460e3c7-dc1e-44bf-8eaa-adbb908ef89d",
   "metadata": {},
   "outputs": [],
   "source": [
    "class Node:\n",
    "    def __init__(self, name):\n",
    "        self.node_name = name \n",
    "    def __repr__(self):\n",
    "        return self.name"
   ]
  },
  {
   "cell_type": "code",
   "execution_count": 64,
   "id": "95bebe79-b434-4f73-99ed-a141ea49537c",
   "metadata": {},
   "outputs": [],
   "source": [
    "node1 = Node('node1')\n",
    "node2 = Node('node2')\n",
    "node3 = Node('node3')"
   ]
  },
  {
   "cell_type": "code",
   "execution_count": 65,
   "id": "16f17055-d40f-44de-9cab-37c18bc37412",
   "metadata": {},
   "outputs": [],
   "source": [
    "G = nx.DiGraph()\n",
    "G.add_node(node1)\n",
    "G.add_node(node2)\n",
    "G.add_node(node3)"
   ]
  },
  {
   "cell_type": "code",
   "execution_count": 47,
   "id": "4e80dcbc-1103-4c5f-9e73-a695a25a7c54",
   "metadata": {},
   "outputs": [],
   "source": [
    "r1 = RouteNode(source_node=node1)"
   ]
  },
  {
   "cell_type": "code",
   "execution_count": 48,
   "id": "5a58984d-5d33-4861-8299-5bc333f8bd10",
   "metadata": {},
   "outputs": [
    {
     "data": {
      "text/plain": [
       "0"
      ]
     },
     "execution_count": 48,
     "metadata": {},
     "output_type": "execute_result"
    }
   ],
   "source": [
    "len(G.out_edges(node1))"
   ]
  }
 ],
 "metadata": {
  "kernelspec": {
   "display_name": "chatflare",
   "language": "python",
   "name": "chatflare-venv"
  },
  "language_info": {
   "codemirror_mode": {
    "name": "ipython",
    "version": 3
   },
   "file_extension": ".py",
   "mimetype": "text/x-python",
   "name": "python",
   "nbconvert_exporter": "python",
   "pygments_lexer": "ipython3",
   "version": "3.10.10"
  }
 },
 "nbformat": 4,
 "nbformat_minor": 5
}
